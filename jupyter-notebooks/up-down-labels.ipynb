{
 "metadata": {
  "language_info": {
   "codemirror_mode": {
    "name": "ipython",
    "version": 3
   },
   "file_extension": ".py",
   "mimetype": "text/x-python",
   "name": "python",
   "nbconvert_exporter": "python",
   "pygments_lexer": "ipython3",
   "version": "3.7.4-final"
  },
  "orig_nbformat": 2,
  "kernelspec": {
   "name": "python3",
   "display_name": "Python 3",
   "language": "python"
  }
 },
 "nbformat": 4,
 "nbformat_minor": 2,
 "cells": [
  {
   "cell_type": "code",
   "execution_count": null,
   "metadata": {},
   "outputs": [],
   "source": [
    "print(\"Starting\")"
   ]
  },
  {
   "cell_type": "code",
   "execution_count": 52,
   "metadata": {},
   "outputs": [],
   "source": [
    "import pandas as pd\n",
    "import pandas_datareader as r\n",
    "from datetime import datetime,timedelta\n",
    "import plotly.graph_objects as go\n",
    "from plotly.subplots import make_subplots\n",
    "from functools import reduce\n",
    "import yfinance\n",
    "import json\n",
    "\n"
   ]
  },
  {
   "cell_type": "code",
   "execution_count": null,
   "metadata": {},
   "outputs": [],
   "source": [
    "ticker='TSLA'"
   ]
  },
  {
   "cell_type": "code",
   "execution_count": null,
   "metadata": {},
   "outputs": [],
   "source": [
    "b=87.54\n",
    "i=yfinance.download(tickers=ticker,period=\"20d\",interval=\"1d\")\n",
    "i['delta']=i['Close']-i['Close'].shift(1)\n",
    "i['R']=i['High']-i['Low']\n",
    "# i['deltacum']=i['delta'].cumsum()\n",
    "i['gainPerUnit']=i['Close']-b\n",
    "# i['gainPctChange']=i['gainPerUnit'].pct_change(1)\n",
    "i['pctChange']=i['Close'].pct_change(1)\n",
    "i['pctChangeCum']=i['pctChange'].cumsum()\n",
    "# i['e']=b+i['deltacum']\n",
    "# i['e1']=i['e']/b\n",
    "# i['direction'] = i['delta'].gt(0).astype(int).map(lambda x:1 if x>0 else -1 )\n",
    "# \n",
    "# i['direction'] = i['delta'].gt(0).astype(int)\n",
    "# i['f']=i['direction'].map(lambda x:\"UP\" if x>0 else \"DOWN\")\n",
    "# i['buy']=(i['direction'].ne(i['direction'].shift(1)) & (i[\"direction\"].eq(1))).map(lambda x: \"Buy\" if x else None)\n",
    "# i['fc']=i['direction'].rolling(5).sum()\n",
    "i['growthX']=(i['Close']/i['Close'].shift(1))\n",
    "x = i['growthX']\n",
    "mn,mx,s,mu,me = x.min(),x.max(),x.std(),x.mean(),x.median()\n",
    "i['strength']=(i['Close']-i['Close'].min())/(i['Close'].max()-i['Close'].min())\n",
    "currStrength=i['strength'][-1]\n",
    "o=[{k:v for k, v in zip((\"sigma\",\"low\",\"high\"),(a,mu-(a*s), mu+(a*s)))} for a in range(1,4)]\n",
    "out={}\n",
    "out['days']=\"20d\"\n",
    "out[\"strength\"]=round(currStrength,2)\n",
    "out['range']=o\n",
    "out\n",
    "# round(i,3)\n"
   ]
  },
  {
   "cell_type": "code",
   "execution_count": null,
   "metadata": {},
   "outputs": [],
   "source": [
    "i"
   ]
  },
  {
   "cell_type": "code",
   "execution_count": null,
   "metadata": {},
   "outputs": [],
   "source": [
    "def getInsights(ticker):\n",
    "    i=yfinance.download(tickers=ticker,period=\"20d\",interval=\"1d\")\n",
    "    i['delta']=i['Close']-i['Close'].shift(1)\n",
    "    i['R']=i['High']-i['Low']\n",
    "    # i['gainPerUnit']=i['Close']-b\n",
    "    i['pctChange']=i['Close'].pct_change(1)\n",
    "    i['pctChangeCum']=i['pctChange'].cumsum()\n",
    "    i['growthX']=(i['Close']/i['Close'].shift(1))\n",
    "    x = i['growthX']\n",
    "    mn,mx,s,mu,me = x.min(),x.max(),x.std(),x.mean(),x.median()\n",
    "    i['strength']=(i['Close']-i['Close'].min())/(i['Close'].max()-i['Close'].min())\n",
    "    currStrength=i['strength'][-1]\n",
    "    o=[{k:v for k, v in zip((\"sigma\",\"low\",\"high\"),(a,mu-(a*s), mu+(a*s)))} for a in range(1,4)]\n",
    "    out={}\n",
    "    out['days']=\"20d\"\n",
    "    out[\"strength\"]=round(currStrength,2)\n",
    "    out['x']=o\n",
    "    out[\"ticker\"]=ticker\n",
    "    return out\n",
    "# round(i,3)"
   ]
  },
  {
   "cell_type": "code",
   "execution_count": null,
   "metadata": {},
   "outputs": [],
   "source": [
    "list(map(getInsights,[\"AMD\"]))"
   ]
  },
  {
   "cell_type": "code",
   "execution_count": null,
   "metadata": {},
   "outputs": [],
   "source": [
    "i"
   ]
  },
  {
   "cell_type": "code",
   "execution_count": null,
   "metadata": {},
   "outputs": [],
   "source": [
    "# i=yfinance.download(tickers=ticker,period=\"1y\",interval=\"1d\")\n",
    "i=yfinance.download(tickers=ticker,period=\"20d\",interval=\"1d\")\n"
   ]
  },
  {
   "cell_type": "code",
   "execution_count": null,
   "metadata": {},
   "outputs": [],
   "source": [
    "i"
   ]
  },
  {
   "cell_type": "code",
   "execution_count": null,
   "metadata": {},
   "outputs": [],
   "source": [
    "i['dayRange']=i['High']-i['Low']\n",
    "# i['dayRange'],i['Open'],i['Close']\n",
    "# i.columns\n",
    "i['dayRange']\n"
   ]
  },
  {
   "cell_type": "code",
   "execution_count": null,
   "metadata": {},
   "outputs": [],
   "source": [
    "\n",
    "def getStats(i, x):\n",
    "    h = i[x]\n",
    "    std, mu, me, high, low, curr = tuple(\n",
    "        map(lambda x: round(x, 4), (h.std(), h.mean(), h.median(), h.max(), h.min(), h[-1])))\n",
    "    xStats = {k: v for k, v in zip(\n",
    "        (\"std\", \"mean\", \"median\", \"high\", \"low\", \"current\"), (std, mu, me, high, low, curr))}\n",
    "    ox = [{k: v for k, v in zip(\n",
    "        (\"sigma\", \"low\", \"high\"), map(lambda x: round(x, 3), (a, mu-(a*std), mu+(a*std))))} for a in range(1, 4)]\n",
    "\n",
    "    xStats['ci'] = sorted(ox, reverse=True, key=lambda x: x[\"sigma\"])\n",
    "    return xStats"
   ]
  },
  {
   "cell_type": "code",
   "execution_count": null,
   "metadata": {},
   "outputs": [],
   "source": [
    "getStats(i,\"dayRange\")"
   ]
  },
  {
   "cell_type": "code",
   "execution_count": null,
   "metadata": {},
   "outputs": [],
   "source": [
    "getStats(i,\"Close\")"
   ]
  },
  {
   "cell_type": "code",
   "execution_count": null,
   "metadata": {},
   "outputs": [],
   "source": [
    "import numpy as np"
   ]
  },
  {
   "cell_type": "code",
   "execution_count": null,
   "metadata": {},
   "outputs": [],
   "source": [
    "fx=np.polyfit(np.array(pd.to_datetime(i.index),dtype=float),i['Close'],1)\n",
    "# np.array(pd.to_datetime(i.index),dtype=float)"
   ]
  },
  {
   "cell_type": "code",
   "execution_count": null,
   "metadata": {},
   "outputs": [],
   "source": [
    "ff=np.poly1d(fx)"
   ]
  },
  {
   "cell_type": "code",
   "execution_count": null,
   "metadata": {},
   "outputs": [],
   "source": [
    "xx=np.array(pd.to_datetime(i.index),dtype=float)"
   ]
  },
  {
   "cell_type": "code",
   "execution_count": null,
   "metadata": {},
   "outputs": [],
   "source": [
    "xx[0]"
   ]
  },
  {
   "cell_type": "code",
   "execution_count": null,
   "metadata": {},
   "outputs": [],
   "source": [
    "v=1.57464e+18"
   ]
  },
  {
   "cell_type": "code",
   "execution_count": null,
   "metadata": {},
   "outputs": [],
   "source": [
    "v"
   ]
  },
  {
   "cell_type": "code",
   "execution_count": null,
   "metadata": {},
   "outputs": [],
   "source": [
    "ff(v)"
   ]
  },
  {
   "cell_type": "code",
   "execution_count": null,
   "metadata": {},
   "outputs": [],
   "source": [
    "xx[-1]"
   ]
  },
  {
   "cell_type": "code",
   "execution_count": null,
   "metadata": {},
   "outputs": [],
   "source": [
    "ff(xx[-1])"
   ]
  },
  {
   "cell_type": "code",
   "execution_count": null,
   "metadata": {},
   "outputs": [],
   "source": [
    "xx[-3:]"
   ]
  },
  {
   "cell_type": "code",
   "execution_count": null,
   "metadata": {},
   "outputs": [],
   "source": [
    "np.array(\"1606370400.0\",dtype=float)"
   ]
  },
  {
   "cell_type": "code",
   "execution_count": null,
   "metadata": {},
   "outputs": [],
   "source": [
    "datetime.timestamp(datetime.strptime(\"26/11/2020\",\"%d/%m/%Y\") )"
   ]
  },
  {
   "cell_type": "code",
   "execution_count": null,
   "metadata": {},
   "outputs": [],
   "source": [
    "ff([1.6061760e+18,1.6063700e+18])\n"
   ]
  },
  {
   "cell_type": "code",
   "execution_count": null,
   "metadata": {},
   "outputs": [],
   "source": [
    "i"
   ]
  },
  {
   "cell_type": "code",
   "execution_count": null,
   "metadata": {},
   "outputs": [],
   "source": [
    "i[\"idx\"]=(i.index.shift(1,freq=\"D\")-i.index[0]).days\n",
    "# i[\"idx\"][2].days\n",
    "i\n"
   ]
  },
  {
   "cell_type": "code",
   "execution_count": null,
   "metadata": {},
   "outputs": [],
   "source": [
    "ddd.days"
   ]
  },
  {
   "cell_type": "code",
   "execution_count": null,
   "metadata": {},
   "outputs": [],
   "source": [
    "fx=np.polyfit(i['idx'],i['Close'],1)\n",
    "# np.array(pd.to_datetime(i.index),dtype=float)"
   ]
  },
  {
   "cell_type": "code",
   "execution_count": null,
   "metadata": {},
   "outputs": [],
   "source": [
    "fx"
   ]
  },
  {
   "cell_type": "code",
   "execution_count": null,
   "metadata": {},
   "outputs": [],
   "source": [
    "ff=np.poly1d(fx)"
   ]
  },
  {
   "cell_type": "code",
   "execution_count": null,
   "metadata": {},
   "outputs": [],
   "source": [
    "ff(i['idx'][-1]),i['idx'][-1]"
   ]
  },
  {
   "cell_type": "code",
   "execution_count": null,
   "metadata": {},
   "outputs": [],
   "source": [
    "ff(367)"
   ]
  },
  {
   "cell_type": "code",
   "execution_count": null,
   "metadata": {},
   "outputs": [],
   "source": [
    "i=yfinance.download(tickers=\"AMD TSLA AAPL\",period=\"20d\",interval=\"1d\")\n"
   ]
  },
  {
   "cell_type": "code",
   "execution_count": null,
   "metadata": {},
   "outputs": [],
   "source": [
    "i"
   ]
  },
  {
   "cell_type": "code",
   "execution_count": null,
   "metadata": {},
   "outputs": [],
   "source": [
    "(i['High']-i['Low']).median()\n"
   ]
  },
  {
   "cell_type": "code",
   "execution_count": 1,
   "metadata": {},
   "outputs": [],
   "source": [
    " x = [\n",
    "        \"ZM\",\n",
    "        \"XOM\",\n",
    "        \"XLNX\",\n",
    "        \"X\",\n",
    "        \"WYNN\",\n",
    "        \"WMT\",\n",
    "        \"WM\",\n",
    "        \"WLL\",\n",
    "        \"WING\",\n",
    "        \"WIFI\",\n",
    "        \"WFC\",\n",
    "        \"WBA\",\n",
    "        \"VTI\",\n",
    "        \"VLY\",\n",
    "        \"TXN\",\n",
    "        \"TWTR\",\n",
    "        \"TWOU\",\n",
    "        \"TSM\",\n",
    "        \"TSLA\",\n",
    "        \"TQQQ\",\n",
    "        \"TPB\",\n",
    "        \"TCEHY\",\n",
    "        \"SWK\",\n",
    "        \"STM\",\n",
    "        \"SRVR\",\n",
    "        \"SQ\",\n",
    "        \"SPY\",\n",
    "        \"SOLO\",\n",
    "        \"SLV\",\n",
    "        \"SILV\",\n",
    "        \"SHW\",\n",
    "        \"SHOP\",\n",
    "        \"SBUX\",\n",
    "        \"ROST\",\n",
    "        \"ROKU\",\n",
    "        \"RCL\",\n",
    "        \"QCOM\",\n",
    "        \"PRPL\",\n",
    "        \"PRAA\",\n",
    "        \"PM\",\n",
    "        \"PINC\",\n",
    "        \"PFGC\",\n",
    "        \"PEP\",\n",
    "        \"PAYC\",\n",
    "        \"OSG\",\n",
    "        \"ORN\",\n",
    "        \"ORLY\",\n",
    "        \"ORCL\",\n",
    "        \"ON\",\n",
    "        \"ODP\",\n",
    "        \"NVR\",\n",
    "        \"NOW\",\n",
    "        \"NKLA\",\n",
    "        \"NIO\",\n",
    "        \"NEWR\",\n",
    "        \"NET\",\n",
    "        \"NCLH\",\n",
    "        \"MUSA\",\n",
    "        \"MU\",\n",
    "        \"MSFT\",\n",
    "        \"MSCI\",\n",
    "        \"MRO\",\n",
    "        \"MRNA\",\n",
    "        \"MRK\",\n",
    "        \"MO\",\n",
    "        \"MMM\",\n",
    "        \"MCHP\",\n",
    "        \"M\",\n",
    "        \"LUV\",\n",
    "        \"LSI\",\n",
    "        \"LRCX\",\n",
    "        \"LMT\",\n",
    "        \"LL\",\n",
    "        \"KSS\",\n",
    "        \"KR\",\n",
    "        \"KO\",\n",
    "        \"KNDI\",\n",
    "        \"KMB\",\n",
    "        \"KLAC\",\n",
    "        \"KHC\",\n",
    "        \"K\",\n",
    "        \"JPM\",\n",
    "        \"JO\",\n",
    "        \"JNJ\",\n",
    "        \"IRM\",\n",
    "        \"IDEX\",\n",
    "        \"IBB\",\n",
    "        \"HPQ\",\n",
    "        \"HOG\",\n",
    "        \"HD\",\n",
    "        \"GP\",\n",
    "        \"GNMK\",\n",
    "        \"GD\",\n",
    "        \"FIZZ\",\n",
    "        \"FB\",\n",
    "        \"F\",\n",
    "        \"ENR\",\n",
    "        \"ED\",\n",
    "        \"DPW\",\n",
    "        \"DOCU\",\n",
    "        \"DIS\",\n",
    "        \"D\",\n",
    "        \"CVX\",\n",
    "        \"CSCO\",\n",
    "        \"CRUS\",\n",
    "        \"COST\",\n",
    "        \"CMG\",\n",
    "        \"CMCSA\",\n",
    "        \"CLX\",\n",
    "        \"CLDR\",\n",
    "        \"CCL\",\n",
    "        \"CAT\",\n",
    "        \"BUD\",\n",
    "        \"BLNK\",\n",
    "        \"BLK\",\n",
    "        \"BKNG\",\n",
    "        \"BIG\",\n",
    "        \"BA\",\n",
    "        \"AZO\",\n",
    "        \"AYRO\",\n",
    "        \"AXDX\",\n",
    "        \"APPS\",\n",
    "        \"AMZN\",\n",
    "        \"AMD\",\n",
    "        \"AMC\",\n",
    "        \"ADBE\",\n",
    "        \"ABT\",\n",
    "        \"AAPL\",\n",
    "        \"AAL\",\n",
    "    ]"
   ]
  },
  {
   "cell_type": "code",
   "execution_count": 4,
   "metadata": {},
   "outputs": [
    {
     "output_type": "stream",
     "name": "stdout",
     "text": [
      "[*********************100%***********************]  3 of 3 completed\n"
     ]
    }
   ],
   "source": [
    "i=yfinance.download(tickers=x[:3],period=\"20d\",interval=\"1d\")\n",
    "gains=(i['High']-i['Low'])\n",
    "price=i['Close']\n",
    "delta = i['Close']-i['Close'].shift(1)\n",
    "\n"
   ]
  },
  {
   "cell_type": "code",
   "execution_count": 53,
   "metadata": {},
   "outputs": [
    {
     "output_type": "stream",
     "name": "stdout",
     "text": [
      "[*********************100%***********************]  3 of 3 completed\n"
     ]
    },
    {
     "output_type": "execute_result",
     "data": {
      "text/plain": [
       "[{'min': 139.8999938965,\n",
       "  'max': 152.1100006104,\n",
       "  'price': 141.7700042725,\n",
       "  'strength': 0.153,\n",
       "  'a_s': 0.013,\n",
       "  'a_r': 0.073,\n",
       "  'name': 'XLNX'},\n",
       " {'min': 40.2099990845,\n",
       "  'max': 44.0099983215,\n",
       "  'price': 41.2200012207,\n",
       "  'strength': 0.266,\n",
       "  'a_s': 0.025,\n",
       "  'a_r': 0.068,\n",
       "  'name': 'XOM'},\n",
       " {'min': 337.3200073242,\n",
       "  'max': 413.5400085449,\n",
       "  'price': 337.3200073242,\n",
       "  'strength': 0.0,\n",
       "  'a_s': 0.0,\n",
       "  'a_r': 0.226,\n",
       "  'name': 'ZM'}]"
      ]
     },
     "metadata": {},
     "execution_count": 53
    }
   ],
   "source": [
    "# Strength\n",
    "i=yfinance.download(tickers=x[:3],period=\"20d\",interval=\"1d\")\n",
    "f=pd.DataFrame()\n",
    "pMin=(i['Close'].min(axis=0))\n",
    "pMax=(i['Close'].max(axis=0))\n",
    "price = i['Close'].last(\"1d\").min()\n",
    "\n",
    "f['min']=pMin\n",
    "f['max']=pMax\n",
    "f['price']=price\n",
    "\n",
    "f['strength']=round((f['price']-f['min'])/(f['max']-f['min']),3)\n",
    "f[\"a_s\"] = round((f['price']-f['min'])/f['min'], 3)\n",
    "f[\"a_r\"] = round((f['max']-f['price'])/f['price'], 3)\n",
    "f['name']=f.index\n",
    "jsonString = f.to_json(orient=\"records\",index=True)\n",
    "xout = json.loads(jsonString)\n",
    "xout"
   ]
  },
  {
   "cell_type": "code",
   "execution_count": null,
   "metadata": {},
   "outputs": [],
   "source": [
    "import json\n",
    "\n",
    "def showGains(l,cap):\n",
    "    i=yfinance.download(tickers=l,period=\"20d\",interval=\"1d\")\n",
    "    gains=(i['High']-i['Low'])\n",
    "    price=i['Close']\n",
    "    for i in gains.columns:\n",
    "        gains[f\"{i}-QTY\"]=opti(price[f\"{i}\"][-1],cap)   \n",
    "        gains[f\"{i}-MED\"]=gains[f\"{i}\"].median()\n",
    "        gains[f\"{i}-GAIN\"]=round(gains[f\"{i}-QTY\"]*gains[f\"{i}-MED\"],2)\n",
    "    xo=gains.last(\"1d\")\n",
    "    xx=pd.DataFrame()\n",
    "    for c in [xc for xc in xo.columns if xc in x ]:\n",
    "        xx[f\"{c}\"]=xo[f\"{c}-QTY\"]*xo[f\"{c}-MED\"] \n",
    "    jsonString=xx.to_json(orient=\"records\")\n",
    "    xout=json.loads(jsonString)\n",
    "    return xout\n"
   ]
  },
  {
   "cell_type": "code",
   "execution_count": null,
   "metadata": {},
   "outputs": [],
   "source": [
    "showGains(\"AAPL AMD AXDX\",1000)"
   ]
  },
  {
   "cell_type": "code",
   "execution_count": null,
   "metadata": {},
   "outputs": [],
   "source": [
    "def opti(p, cap):\n",
    "    px, capx = tuple(map(float, (p, cap)))\n",
    "    tolerance = .0175\n",
    "    lps = .04\n",
    "    # lps_amt = lps*px\n",
    "    # stoploss = round(px*(1-lps), 2)\n",
    "    risk = float(capx)*tolerance\n",
    "    qty = int(risk/(float(px)*lps))\n",
    "    eq = qty*px\n",
    "    lo = capx-eq\n",
    "    # print(eq,lo,qty)\n",
    "    return qty"
   ]
  },
  {
   "cell_type": "code",
   "execution_count": null,
   "metadata": {},
   "outputs": [],
   "source": [
    "opti(101.22,1000)"
   ]
  },
  {
   "cell_type": "code",
   "execution_count": 52,
   "metadata": {},
   "outputs": [],
   "source": [
    "\n",
    "for i in gains.columns:\n",
    "    gains[f\"{i}-QTY\"]=opti(price[f\"{i}\"][-1],1000)   \n",
    "    gains[f\"{i}-MED\"]=gains[f\"{i}\"].median()\n",
    "    gains[f\"{i}-GAIN\"]=gains[f\"{i}-QTY\"]*gains[f\"{i}-MED\"]\n",
    "    gains[f\"{i}-DX\"] = delta[f\"{i}\"]\n"
   ]
  },
  {
   "cell_type": "code",
   "execution_count": 53,
   "metadata": {},
   "outputs": [],
   "source": [
    "xo=gains.last(\"1d\")"
   ]
  },
  {
   "cell_type": "code",
   "execution_count": 54,
   "metadata": {},
   "outputs": [
    {
     "output_type": "execute_result",
     "data": {
      "text/plain": [
       "                XLNX       XOM         ZM  XLNX-QTY  XLNX-MED  XLNX-GAIN  \\\n",
       "Date                                                                       \n",
       "2020-11-30  8.730011  1.460003  26.829987         3  3.855003   11.56501   \n",
       "\n",
       "             XLNX-DX  XOM-QTY   XOM-MED   XOM-GAIN    XOM-DX  ZM-QTY  \\\n",
       "Date                                                                   \n",
       "2020-11-30  7.189987       11  1.344999  14.794992 -1.669998       0   \n",
       "\n",
       "               ZM-MED  ZM-GAIN     ZM-DX  \n",
       "Date                                      \n",
       "2020-11-30  24.424988      0.0  0.044403  "
      ],
      "text/html": "<div>\n<style scoped>\n    .dataframe tbody tr th:only-of-type {\n        vertical-align: middle;\n    }\n\n    .dataframe tbody tr th {\n        vertical-align: top;\n    }\n\n    .dataframe thead th {\n        text-align: right;\n    }\n</style>\n<table border=\"1\" class=\"dataframe\">\n  <thead>\n    <tr style=\"text-align: right;\">\n      <th></th>\n      <th>XLNX</th>\n      <th>XOM</th>\n      <th>ZM</th>\n      <th>XLNX-QTY</th>\n      <th>XLNX-MED</th>\n      <th>XLNX-GAIN</th>\n      <th>XLNX-DX</th>\n      <th>XOM-QTY</th>\n      <th>XOM-MED</th>\n      <th>XOM-GAIN</th>\n      <th>XOM-DX</th>\n      <th>ZM-QTY</th>\n      <th>ZM-MED</th>\n      <th>ZM-GAIN</th>\n      <th>ZM-DX</th>\n    </tr>\n    <tr>\n      <th>Date</th>\n      <th></th>\n      <th></th>\n      <th></th>\n      <th></th>\n      <th></th>\n      <th></th>\n      <th></th>\n      <th></th>\n      <th></th>\n      <th></th>\n      <th></th>\n      <th></th>\n      <th></th>\n      <th></th>\n      <th></th>\n    </tr>\n  </thead>\n  <tbody>\n    <tr>\n      <td>2020-11-30</td>\n      <td>8.730011</td>\n      <td>1.460003</td>\n      <td>26.829987</td>\n      <td>3</td>\n      <td>3.855003</td>\n      <td>11.56501</td>\n      <td>7.189987</td>\n      <td>11</td>\n      <td>1.344999</td>\n      <td>14.794992</td>\n      <td>-1.669998</td>\n      <td>0</td>\n      <td>24.424988</td>\n      <td>0.0</td>\n      <td>0.044403</td>\n    </tr>\n  </tbody>\n</table>\n</div>"
     },
     "metadata": {},
     "execution_count": 54
    }
   ],
   "source": [
    "xo"
   ]
  },
  {
   "cell_type": "code",
   "execution_count": 55,
   "metadata": {},
   "outputs": [
    {
     "output_type": "execute_result",
     "data": {
      "text/plain": [
       "                XLNX        XOM   ZM\n",
       "Date                                \n",
       "2020-11-30  11.56501  14.794992  0.0"
      ],
      "text/html": "<div>\n<style scoped>\n    .dataframe tbody tr th:only-of-type {\n        vertical-align: middle;\n    }\n\n    .dataframe tbody tr th {\n        vertical-align: top;\n    }\n\n    .dataframe thead th {\n        text-align: right;\n    }\n</style>\n<table border=\"1\" class=\"dataframe\">\n  <thead>\n    <tr style=\"text-align: right;\">\n      <th></th>\n      <th>XLNX</th>\n      <th>XOM</th>\n      <th>ZM</th>\n    </tr>\n    <tr>\n      <th>Date</th>\n      <th></th>\n      <th></th>\n      <th></th>\n    </tr>\n  </thead>\n  <tbody>\n    <tr>\n      <td>2020-11-30</td>\n      <td>11.56501</td>\n      <td>14.794992</td>\n      <td>0.0</td>\n    </tr>\n  </tbody>\n</table>\n</div>"
     },
     "metadata": {},
     "execution_count": 55
    }
   ],
   "source": [
    "xx=pd.DataFrame()\n",
    "for c in [xc for xc in xo.columns if xc in x ]:\n",
    "    xx[f\"{c}\"]=xo[f\"{c}-QTY\"]*xo[f\"{c}-MED\"]\n",
    "    # xx[f\"{c}-DX\"]=xo[f\"{c}-DX\"]\n",
    "xx    "
   ]
  },
  {
   "cell_type": "code",
   "execution_count": 56,
   "metadata": {},
   "outputs": [
    {
     "output_type": "execute_result",
     "data": {
      "text/plain": [
       "'[{\"XLNX\":11.5650100708,\"XOM\":14.7949924469,\"ZM\":0.0}]'"
      ]
     },
     "metadata": {},
     "execution_count": 56
    }
   ],
   "source": [
    "xx.to_json(orient=\"records\")"
   ]
  },
  {
   "cell_type": "code",
   "execution_count": 60,
   "metadata": {},
   "outputs": [
    {
     "output_type": "execute_result",
     "data": {
      "text/plain": [
       "[{'name': 'XLNX', 'gain': 11.5650100708},\n",
       " {'name': 'XOM', 'gain': 14.7949924469},\n",
       " {'name': 'ZM', 'gain': 0.0}]"
      ]
     },
     "metadata": {},
     "execution_count": 60
    }
   ],
   "source": [
    "gj={\"XLNX\":11.5650100708,\"XOM\":14.7949924469,\"ZM\":0.0}\n",
    "gj1= [{\"name\": k, \"gain\": v} for k, v in gj.items()]\n",
    "gj1"
   ]
  },
  {
   "cell_type": "code",
   "execution_count": 61,
   "metadata": {},
   "outputs": [],
   "source": [
    "dx1=gains.last(\"1d\")[[x for x in gains.columns if x.endswith(\"-DX\")]]\n"
   ]
  },
  {
   "cell_type": "code",
   "execution_count": 62,
   "metadata": {},
   "outputs": [
    {
     "output_type": "execute_result",
     "data": {
      "text/plain": [
       "             XLNX-DX    XOM-DX     ZM-DX\n",
       "Date                                    \n",
       "2020-11-30  7.189987 -1.669998  0.044403"
      ],
      "text/html": "<div>\n<style scoped>\n    .dataframe tbody tr th:only-of-type {\n        vertical-align: middle;\n    }\n\n    .dataframe tbody tr th {\n        vertical-align: top;\n    }\n\n    .dataframe thead th {\n        text-align: right;\n    }\n</style>\n<table border=\"1\" class=\"dataframe\">\n  <thead>\n    <tr style=\"text-align: right;\">\n      <th></th>\n      <th>XLNX-DX</th>\n      <th>XOM-DX</th>\n      <th>ZM-DX</th>\n    </tr>\n    <tr>\n      <th>Date</th>\n      <th></th>\n      <th></th>\n      <th></th>\n    </tr>\n  </thead>\n  <tbody>\n    <tr>\n      <td>2020-11-30</td>\n      <td>7.189987</td>\n      <td>-1.669998</td>\n      <td>0.044403</td>\n    </tr>\n  </tbody>\n</table>\n</div>"
     },
     "metadata": {},
     "execution_count": 62
    }
   ],
   "source": [
    "dx1"
   ]
  },
  {
   "cell_type": "code",
   "execution_count": 63,
   "metadata": {},
   "outputs": [
    {
     "output_type": "execute_result",
     "data": {
      "text/plain": [
       "'[{\"XLNX-DX\":7.1899871826,\"XOM-DX\":-1.6699981689,\"ZM-DX\":0.0444030762}]'"
      ]
     },
     "metadata": {},
     "execution_count": 63
    }
   ],
   "source": [
    "dx1.to_json(orient=\"records\")"
   ]
  },
  {
   "cell_type": "code",
   "execution_count": 64,
   "metadata": {},
   "outputs": [],
   "source": [
    "dxj={\"XLNX-DX\":7.5599975586,\"XOM-DX\":-1.7099990845,\"ZM-DX\":-2.0399780273}"
   ]
  },
  {
   "cell_type": "code",
   "execution_count": 65,
   "metadata": {},
   "outputs": [],
   "source": [
    "dxj1=[{\"name\": k.split(\"-\")[0], \"dx\": v} for k, v in dxj.items()]"
   ]
  },
  {
   "cell_type": "code",
   "execution_count": 73,
   "metadata": {},
   "outputs": [
    {
     "output_type": "execute_result",
     "data": {
      "text/plain": [
       "([{'name': 'XLNX', 'dx': 7.5599975586},\n",
       "  {'name': 'XOM', 'dx': -1.7099990845},\n",
       "  {'name': 'ZM', 'dx': -2.0399780273}],\n",
       " {'name': 'XLNX', 'gain': 11.5650100708})"
      ]
     },
     "metadata": {},
     "execution_count": 73
    }
   ],
   "source": [
    "dxj1,gj2"
   ]
  },
  {
   "cell_type": "code",
   "execution_count": 95,
   "metadata": {},
   "outputs": [],
   "source": [
    "def xoo(n,l,v):\n",
    "    print(n)\n",
    "    list(filter(lambda x:x['name']==n.split(\"-\")[0],l))[0].update({\"dx\":v})\n",
    "\n"
   ]
  },
  {
   "cell_type": "code",
   "execution_count": 96,
   "metadata": {},
   "outputs": [
    {
     "output_type": "stream",
     "name": "stdout",
     "text": [
      "XLNX-DX\nXOM-DX\nZM-DX\n"
     ]
    },
    {
     "output_type": "execute_result",
     "data": {
      "text/plain": [
       "[None, None, None]"
      ]
     },
     "metadata": {},
     "execution_count": 96
    }
   ],
   "source": [
    "[xoo(k,gj1,v) for k, v in dxj.items()]"
   ]
  },
  {
   "cell_type": "code",
   "execution_count": 97,
   "metadata": {},
   "outputs": [
    {
     "output_type": "execute_result",
     "data": {
      "text/plain": [
       "[{'name': 'XLNX', 'gain': 11.5650100708, 'f': 'foo', 'dx': 7.5599975586},\n",
       " {'name': 'XOM', 'gain': 14.7949924469, 'f': 'foo', 'dx': -1.7099990845},\n",
       " {'name': 'ZM', 'gain': 0.0, 'f': 'foo', 'dx': -2.0399780273}]"
      ]
     },
     "metadata": {},
     "execution_count": 97
    }
   ],
   "source": [
    "gj1"
   ]
  },
  {
   "cell_type": "code",
   "execution_count": 22,
   "metadata": {},
   "outputs": [
    {
     "output_type": "stream",
     "name": "stdout",
     "text": [
      "[7, 5, 4.9]\n"
     ]
    }
   ],
   "source": [
    "d = [10, 9, 8, 7,7.6,7.9, 6, 5, 5.5, 6,4.9,6.2, 7, 8, 10, 12]\n",
    "x=[(i,j,-i+j) for i,j in zip(d,d[1:])]\n",
    "# [(i,j) for i,j in filter(lambda s: s[1][2]>0 and  s[0][2]<0,zip(x,x[1:]))]\n",
    "pivots=[j[0] for i,j in filter(lambda s: s[1][2]>0 and  s[0][2]<0,zip(x,x[1:]))]\n",
    "print(pivots)\n",
    "\n",
    "# find where all a shift happened\n"
   ]
  },
  {
   "cell_type": "code",
   "execution_count": null,
   "metadata": {},
   "outputs": [],
   "source": []
  }
 ]
}