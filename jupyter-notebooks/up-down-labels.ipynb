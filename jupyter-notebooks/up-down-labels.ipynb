{
 "metadata": {
  "language_info": {
   "codemirror_mode": {
    "name": "ipython",
    "version": 3
   },
   "file_extension": ".py",
   "mimetype": "text/x-python",
   "name": "python",
   "nbconvert_exporter": "python",
   "pygments_lexer": "ipython3",
   "version": "3.7.4-final"
  },
  "orig_nbformat": 2,
  "kernelspec": {
   "name": "python3",
   "display_name": "Python 3"
  }
 },
 "nbformat": 4,
 "nbformat_minor": 2,
 "cells": [
  {
   "cell_type": "code",
   "execution_count": null,
   "metadata": {},
   "outputs": [],
   "source": [
    "print(\"Starting\")"
   ]
  },
  {
   "cell_type": "code",
   "execution_count": null,
   "metadata": {},
   "outputs": [],
   "source": [
    "import pandas as pd\n",
    "import pandas_datareader as r\n",
    "from datetime import datetime,timedelta\n",
    "import plotly.graph_objects as go\n",
    "from plotly.subplots import make_subplots\n",
    "from functools import reduce\n",
    "import yfinance\n"
   ]
  },
  {
   "cell_type": "code",
   "execution_count": null,
   "metadata": {},
   "outputs": [],
   "source": [
    "ticker='TSLA'"
   ]
  },
  {
   "cell_type": "code",
   "execution_count": null,
   "metadata": {},
   "outputs": [],
   "source": [
    "b=87.54\n",
    "i=yfinance.download(tickers=ticker,period=\"20d\",interval=\"1d\")\n",
    "i['delta']=i['Close']-i['Close'].shift(1)\n",
    "i['R']=i['High']-i['Low']\n",
    "# i['deltacum']=i['delta'].cumsum()\n",
    "i['gainPerUnit']=i['Close']-b\n",
    "# i['gainPctChange']=i['gainPerUnit'].pct_change(1)\n",
    "i['pctChange']=i['Close'].pct_change(1)\n",
    "i['pctChangeCum']=i['pctChange'].cumsum()\n",
    "# i['e']=b+i['deltacum']\n",
    "# i['e1']=i['e']/b\n",
    "# i['direction'] = i['delta'].gt(0).astype(int).map(lambda x:1 if x>0 else -1 )\n",
    "# \n",
    "# i['direction'] = i['delta'].gt(0).astype(int)\n",
    "# i['f']=i['direction'].map(lambda x:\"UP\" if x>0 else \"DOWN\")\n",
    "# i['buy']=(i['direction'].ne(i['direction'].shift(1)) & (i[\"direction\"].eq(1))).map(lambda x: \"Buy\" if x else None)\n",
    "# i['fc']=i['direction'].rolling(5).sum()\n",
    "i['growthX']=(i['Close']/i['Close'].shift(1))\n",
    "x = i['growthX']\n",
    "mn,mx,s,mu,me = x.min(),x.max(),x.std(),x.mean(),x.median()\n",
    "i['strength']=(i['Close']-i['Close'].min())/(i['Close'].max()-i['Close'].min())\n",
    "currStrength=i['strength'][-1]\n",
    "o=[{k:v for k, v in zip((\"sigma\",\"low\",\"high\"),(a,mu-(a*s), mu+(a*s)))} for a in range(1,4)]\n",
    "out={}\n",
    "out['days']=\"20d\"\n",
    "out[\"strength\"]=round(currStrength,2)\n",
    "out['range']=o\n",
    "out\n",
    "# round(i,3)\n"
   ]
  },
  {
   "cell_type": "code",
   "execution_count": null,
   "metadata": {},
   "outputs": [],
   "source": [
    "i"
   ]
  },
  {
   "cell_type": "code",
   "execution_count": null,
   "metadata": {},
   "outputs": [],
   "source": [
    "def getInsights(ticker):\n",
    "    i=yfinance.download(tickers=ticker,period=\"20d\",interval=\"1d\")\n",
    "    i['delta']=i['Close']-i['Close'].shift(1)\n",
    "    i['R']=i['High']-i['Low']\n",
    "    # i['gainPerUnit']=i['Close']-b\n",
    "    i['pctChange']=i['Close'].pct_change(1)\n",
    "    i['pctChangeCum']=i['pctChange'].cumsum()\n",
    "    i['growthX']=(i['Close']/i['Close'].shift(1))\n",
    "    x = i['growthX']\n",
    "    mn,mx,s,mu,me = x.min(),x.max(),x.std(),x.mean(),x.median()\n",
    "    i['strength']=(i['Close']-i['Close'].min())/(i['Close'].max()-i['Close'].min())\n",
    "    currStrength=i['strength'][-1]\n",
    "    o=[{k:v for k, v in zip((\"sigma\",\"low\",\"high\"),(a,mu-(a*s), mu+(a*s)))} for a in range(1,4)]\n",
    "    out={}\n",
    "    out['days']=\"20d\"\n",
    "    out[\"strength\"]=round(currStrength,2)\n",
    "    out['x']=o\n",
    "    out[\"ticker\"]=ticker\n",
    "    return out\n",
    "# round(i,3)"
   ]
  },
  {
   "cell_type": "code",
   "execution_count": null,
   "metadata": {},
   "outputs": [],
   "source": [
    "list(map(getInsights,[\"AMD\"]))"
   ]
  },
  {
   "cell_type": "code",
   "execution_count": null,
   "metadata": {},
   "outputs": [],
   "source": [
    "i"
   ]
  },
  {
   "cell_type": "code",
   "execution_count": null,
   "metadata": {},
   "outputs": [],
   "source": [
    "# i=yfinance.download(tickers=ticker,period=\"1y\",interval=\"1d\")\n",
    "i=yfinance.download(tickers=ticker,period=\"20d\",interval=\"1d\")\n"
   ]
  },
  {
   "cell_type": "code",
   "execution_count": null,
   "metadata": {},
   "outputs": [],
   "source": [
    "i"
   ]
  },
  {
   "cell_type": "code",
   "execution_count": null,
   "metadata": {},
   "outputs": [],
   "source": [
    "i['dayRange']=i['High']-i['Low']\n",
    "# i['dayRange'],i['Open'],i['Close']\n",
    "# i.columns\n",
    "i['dayRange']\n"
   ]
  },
  {
   "cell_type": "code",
   "execution_count": null,
   "metadata": {},
   "outputs": [],
   "source": [
    "\n",
    "def getStats(i, x):\n",
    "    h = i[x]\n",
    "    std, mu, me, high, low, curr = tuple(\n",
    "        map(lambda x: round(x, 4), (h.std(), h.mean(), h.median(), h.max(), h.min(), h[-1])))\n",
    "    xStats = {k: v for k, v in zip(\n",
    "        (\"std\", \"mean\", \"median\", \"high\", \"low\", \"current\"), (std, mu, me, high, low, curr))}\n",
    "    ox = [{k: v for k, v in zip(\n",
    "        (\"sigma\", \"low\", \"high\"), map(lambda x: round(x, 3), (a, mu-(a*std), mu+(a*std))))} for a in range(1, 4)]\n",
    "\n",
    "    xStats['ci'] = sorted(ox, reverse=True, key=lambda x: x[\"sigma\"])\n",
    "    return xStats"
   ]
  },
  {
   "cell_type": "code",
   "execution_count": null,
   "metadata": {},
   "outputs": [],
   "source": [
    "getStats(i,\"dayRange\")"
   ]
  },
  {
   "cell_type": "code",
   "execution_count": null,
   "metadata": {},
   "outputs": [],
   "source": [
    "getStats(i,\"Close\")"
   ]
  },
  {
   "cell_type": "code",
   "execution_count": null,
   "metadata": {},
   "outputs": [],
   "source": [
    "import numpy as np"
   ]
  },
  {
   "cell_type": "code",
   "execution_count": null,
   "metadata": {},
   "outputs": [],
   "source": [
    "fx=np.polyfit(np.array(pd.to_datetime(i.index),dtype=float),i['Close'],1)\n",
    "# np.array(pd.to_datetime(i.index),dtype=float)"
   ]
  },
  {
   "cell_type": "code",
   "execution_count": null,
   "metadata": {},
   "outputs": [],
   "source": [
    "ff=np.poly1d(fx)"
   ]
  },
  {
   "cell_type": "code",
   "execution_count": null,
   "metadata": {},
   "outputs": [],
   "source": [
    "xx=np.array(pd.to_datetime(i.index),dtype=float)"
   ]
  },
  {
   "cell_type": "code",
   "execution_count": null,
   "metadata": {},
   "outputs": [],
   "source": [
    "xx[0]"
   ]
  },
  {
   "cell_type": "code",
   "execution_count": null,
   "metadata": {},
   "outputs": [],
   "source": [
    "v=1.57464e+18"
   ]
  },
  {
   "cell_type": "code",
   "execution_count": null,
   "metadata": {},
   "outputs": [],
   "source": [
    "v"
   ]
  },
  {
   "cell_type": "code",
   "execution_count": null,
   "metadata": {},
   "outputs": [],
   "source": [
    "ff(v)"
   ]
  },
  {
   "cell_type": "code",
   "execution_count": null,
   "metadata": {},
   "outputs": [],
   "source": [
    "xx[-1]"
   ]
  },
  {
   "cell_type": "code",
   "execution_count": null,
   "metadata": {},
   "outputs": [],
   "source": [
    "ff(xx[-1])"
   ]
  },
  {
   "cell_type": "code",
   "execution_count": null,
   "metadata": {},
   "outputs": [],
   "source": [
    "xx[-3:]"
   ]
  },
  {
   "cell_type": "code",
   "execution_count": null,
   "metadata": {},
   "outputs": [],
   "source": [
    "np.array(\"1606370400.0\",dtype=float)"
   ]
  },
  {
   "cell_type": "code",
   "execution_count": null,
   "metadata": {},
   "outputs": [],
   "source": [
    "datetime.timestamp(datetime.strptime(\"26/11/2020\",\"%d/%m/%Y\") )"
   ]
  },
  {
   "cell_type": "code",
   "execution_count": null,
   "metadata": {},
   "outputs": [],
   "source": [
    "ff([1.6061760e+18,1.6063700e+18])\n"
   ]
  },
  {
   "cell_type": "code",
   "execution_count": null,
   "metadata": {},
   "outputs": [],
   "source": [
    "i"
   ]
  },
  {
   "cell_type": "code",
   "execution_count": null,
   "metadata": {},
   "outputs": [],
   "source": [
    "i[\"idx\"]=(i.index.shift(1,freq=\"D\")-i.index[0]).days\n",
    "# i[\"idx\"][2].days\n",
    "i\n"
   ]
  },
  {
   "cell_type": "code",
   "execution_count": null,
   "metadata": {},
   "outputs": [],
   "source": [
    "ddd.days"
   ]
  },
  {
   "cell_type": "code",
   "execution_count": null,
   "metadata": {},
   "outputs": [],
   "source": [
    "fx=np.polyfit(i['idx'],i['Close'],1)\n",
    "# np.array(pd.to_datetime(i.index),dtype=float)"
   ]
  },
  {
   "cell_type": "code",
   "execution_count": null,
   "metadata": {},
   "outputs": [],
   "source": [
    "fx"
   ]
  },
  {
   "cell_type": "code",
   "execution_count": null,
   "metadata": {},
   "outputs": [],
   "source": [
    "ff=np.poly1d(fx)"
   ]
  },
  {
   "cell_type": "code",
   "execution_count": null,
   "metadata": {},
   "outputs": [],
   "source": [
    "ff(i['idx'][-1]),i['idx'][-1]"
   ]
  },
  {
   "cell_type": "code",
   "execution_count": null,
   "metadata": {},
   "outputs": [],
   "source": [
    "ff(367)"
   ]
  },
  {
   "cell_type": "code",
   "execution_count": null,
   "metadata": {},
   "outputs": [],
   "source": [
    "i=yfinance.download(tickers=\"AMD TSLA AAPL\",period=\"20d\",interval=\"1d\")\n"
   ]
  },
  {
   "cell_type": "code",
   "execution_count": null,
   "metadata": {},
   "outputs": [],
   "source": [
    "i"
   ]
  },
  {
   "cell_type": "code",
   "execution_count": null,
   "metadata": {},
   "outputs": [],
   "source": [
    "(i['High']-i['Low']).median()\n"
   ]
  },
  {
   "cell_type": "code",
   "execution_count": 93,
   "metadata": {},
   "outputs": [],
   "source": [
    " x = [\n",
    "        \"ZM\",\n",
    "        \"XOM\",\n",
    "        \"XLNX\",\n",
    "        \"X\",\n",
    "        \"WYNN\",\n",
    "        \"WMT\",\n",
    "        \"WM\",\n",
    "        \"WLL\",\n",
    "        \"WING\",\n",
    "        \"WIFI\",\n",
    "        \"WFC\",\n",
    "        \"WBA\",\n",
    "        \"VTI\",\n",
    "        \"VLY\",\n",
    "        \"TXN\",\n",
    "        \"TWTR\",\n",
    "        \"TWOU\",\n",
    "        \"TSM\",\n",
    "        \"TSLA\",\n",
    "        \"TQQQ\",\n",
    "        \"TPB\",\n",
    "        \"TCEHY\",\n",
    "        \"SWK\",\n",
    "        \"STM\",\n",
    "        \"SRVR\",\n",
    "        \"SQ\",\n",
    "        \"SPY\",\n",
    "        \"SOLO\",\n",
    "        \"SLV\",\n",
    "        \"SILV\",\n",
    "        \"SHW\",\n",
    "        \"SHOP\",\n",
    "        \"SBUX\",\n",
    "        \"ROST\",\n",
    "        \"ROKU\",\n",
    "        \"RCL\",\n",
    "        \"QCOM\",\n",
    "        \"PRPL\",\n",
    "        \"PRAA\",\n",
    "        \"PM\",\n",
    "        \"PINC\",\n",
    "        \"PFGC\",\n",
    "        \"PEP\",\n",
    "        \"PAYC\",\n",
    "        \"OSG\",\n",
    "        \"ORN\",\n",
    "        \"ORLY\",\n",
    "        \"ORCL\",\n",
    "        \"ON\",\n",
    "        \"ODP\",\n",
    "        \"NVR\",\n",
    "        \"NOW\",\n",
    "        \"NKLA\",\n",
    "        \"NIO\",\n",
    "        \"NEWR\",\n",
    "        \"NET\",\n",
    "        \"NCLH\",\n",
    "        \"MUSA\",\n",
    "        \"MU\",\n",
    "        \"MSFT\",\n",
    "        \"MSCI\",\n",
    "        \"MRO\",\n",
    "        \"MRNA\",\n",
    "        \"MRK\",\n",
    "        \"MO\",\n",
    "        \"MMM\",\n",
    "        \"MCHP\",\n",
    "        \"M\",\n",
    "        \"LUV\",\n",
    "        \"LSI\",\n",
    "        \"LRCX\",\n",
    "        \"LMT\",\n",
    "        \"LL\",\n",
    "        \"KSS\",\n",
    "        \"KR\",\n",
    "        \"KO\",\n",
    "        \"KNDI\",\n",
    "        \"KMB\",\n",
    "        \"KLAC\",\n",
    "        \"KHC\",\n",
    "        \"K\",\n",
    "        \"JPM\",\n",
    "        \"JO\",\n",
    "        \"JNJ\",\n",
    "        \"IRM\",\n",
    "        \"IDEX\",\n",
    "        \"IBB\",\n",
    "        \"HPQ\",\n",
    "        \"HOG\",\n",
    "        \"HD\",\n",
    "        \"GP\",\n",
    "        \"GNMK\",\n",
    "        \"GD\",\n",
    "        \"FIZZ\",\n",
    "        \"FB\",\n",
    "        \"F\",\n",
    "        \"ENR\",\n",
    "        \"ED\",\n",
    "        \"DPW\",\n",
    "        \"DOCU\",\n",
    "        \"DIS\",\n",
    "        \"D\",\n",
    "        \"CVX\",\n",
    "        \"CSCO\",\n",
    "        \"CRUS\",\n",
    "        \"COST\",\n",
    "        \"CMG\",\n",
    "        \"CMCSA\",\n",
    "        \"CLX\",\n",
    "        \"CLDR\",\n",
    "        \"CCL\",\n",
    "        \"CAT\",\n",
    "        \"BUD\",\n",
    "        \"BLNK\",\n",
    "        \"BLK\",\n",
    "        \"BKNG\",\n",
    "        \"BIG\",\n",
    "        \"BA\",\n",
    "        \"AZO\",\n",
    "        \"AYRO\",\n",
    "        \"AXDX\",\n",
    "        \"APPS\",\n",
    "        \"AMZN\",\n",
    "        \"AMD\",\n",
    "        \"AMC\",\n",
    "        \"ADBE\",\n",
    "        \"ABT\",\n",
    "        \"AAPL\",\n",
    "        \"AAL\",\n",
    "    ]"
   ]
  },
  {
   "cell_type": "code",
   "execution_count": 108,
   "metadata": {},
   "outputs": [
    {
     "output_type": "stream",
     "name": "stdout",
     "text": [
      "[*********************100%***********************]  129 of 129 completed\n"
     ]
    }
   ],
   "source": [
    "i=yfinance.download(tickers=x,period=\"20d\",interval=\"1d\")\n",
    "gains=(i['High']-i['Low'])\n",
    "price=i['Close']\n"
   ]
  },
  {
   "cell_type": "code",
   "execution_count": 153,
   "metadata": {},
   "outputs": [],
   "source": [
    "import json\n",
    "\n",
    "def showGains(l,cap):\n",
    "    i=yfinance.download(tickers=l,period=\"20d\",interval=\"1d\")\n",
    "    gains=(i['High']-i['Low'])\n",
    "    price=i['Close']\n",
    "    for i in gains.columns:\n",
    "        gains[f\"{i}-QTY\"]=opti(price[f\"{i}\"][-1],cap)   \n",
    "        gains[f\"{i}-MED\"]=gains[f\"{i}\"].median()\n",
    "        gains[f\"{i}-GAIN\"]=round(gains[f\"{i}-QTY\"]*gains[f\"{i}-MED\"],2)\n",
    "    xo=gains.last(\"1d\")\n",
    "    xx=pd.DataFrame()\n",
    "    for c in [xc for xc in xo.columns if xc in x ]:\n",
    "        xx[f\"{c}\"]=xo[f\"{c}-QTY\"]*xo[f\"{c}-MED\"] \n",
    "    jsonString=xx.to_json(orient=\"records\")\n",
    "    xout=json.loads(jsonString)\n",
    "    return xout\n"
   ]
  },
  {
   "cell_type": "code",
   "execution_count": 155,
   "metadata": {},
   "outputs": [
    {
     "output_type": "stream",
     "name": "stdout",
     "text": [
      "[*********************100%***********************]  3 of 3 completed\n"
     ]
    },
    {
     "output_type": "execute_result",
     "data": {
      "text/plain": [
       "[{'AAPL': 8.3999862671, 'AMD': 13.1999778748, 'AXDX': 22.7899909019}]"
      ]
     },
     "metadata": {},
     "execution_count": 155
    }
   ],
   "source": [
    "showGains(\"AAPL AMD AXDX\",1000)"
   ]
  },
  {
   "cell_type": "code",
   "execution_count": 109,
   "metadata": {},
   "outputs": [],
   "source": [
    "def opti(p, cap):\n",
    "    px, capx = tuple(map(float, (p, cap)))\n",
    "    tolerance = .0175\n",
    "    lps = .04\n",
    "    # lps_amt = lps*px\n",
    "    # stoploss = round(px*(1-lps), 2)\n",
    "    risk = float(capx)*tolerance\n",
    "    qty = int(risk/(float(px)*lps))\n",
    "    eq = qty*px\n",
    "    lo = capx-eq\n",
    "    # print(eq,lo,qty)\n",
    "    return qty"
   ]
  },
  {
   "cell_type": "code",
   "execution_count": 110,
   "metadata": {},
   "outputs": [
    {
     "output_type": "execute_result",
     "data": {
      "text/plain": [
       "4"
      ]
     },
     "metadata": {},
     "execution_count": 110
    }
   ],
   "source": [
    "opti(101.22,1000)"
   ]
  },
  {
   "cell_type": "code",
   "execution_count": 111,
   "metadata": {},
   "outputs": [],
   "source": [
    "for i in gains.columns:\n",
    "    gains[f\"{i}-QTY\"]=opti(price[f\"{i}\"][-1],1000)   \n",
    "    gains[f\"{i}-MED\"]=gains[f\"{i}\"].median()\n",
    "    gains[f\"{i}-GAIN\"]=gains[f\"{i}-QTY\"]*gains[f\"{i}-MED\"]"
   ]
  },
  {
   "cell_type": "code",
   "execution_count": 112,
   "metadata": {},
   "outputs": [
    {
     "output_type": "execute_result",
     "data": {
      "text/plain": [
       "Index(['AAL', 'AAPL', 'ABT', 'ADBE', 'AMC', 'AMD', 'AMZN', 'APPS', 'AXDX',\n",
       "       'AYRO',\n",
       "       ...\n",
       "       'X-GAIN', 'XLNX-QTY', 'XLNX-MED', 'XLNX-GAIN', 'XOM-QTY', 'XOM-MED',\n",
       "       'XOM-GAIN', 'ZM-QTY', 'ZM-MED', 'ZM-GAIN'],\n",
       "      dtype='object', length=516)"
      ]
     },
     "metadata": {},
     "execution_count": 112
    }
   ],
   "source": [
    "gains.columns"
   ]
  },
  {
   "cell_type": "code",
   "execution_count": 64,
   "metadata": {},
   "outputs": [
    {
     "output_type": "execute_result",
     "data": {
      "text/plain": [
       "AAL            0.565000\n",
       "AAPL           2.799995\n",
       "ABT            2.320000\n",
       "ADBE          11.974991\n",
       "AMC            0.275000\n",
       "                ...    \n",
       "XLNX-GAIN    744.015648\n",
       "XOM-QTY      408.000000\n",
       "XOM-GAIN     501.839813\n",
       "ZM-QTY        18.000000\n",
       "ZM-GAIN      439.649780\n",
       "Length: 387, dtype: float64"
      ]
     },
     "metadata": {},
     "execution_count": 64
    }
   ],
   "source": [
    "gains.median()"
   ]
  },
  {
   "cell_type": "code",
   "execution_count": 113,
   "metadata": {},
   "outputs": [],
   "source": [
    "xo=gains.last(\"1d\")"
   ]
  },
  {
   "cell_type": "code",
   "execution_count": 114,
   "metadata": {},
   "outputs": [
    {
     "output_type": "execute_result",
     "data": {
      "text/plain": [
       "                 AAL      AAPL       ABT      ADBE   AMC       AMD       AMZN  \\\n",
       "Date                                                                            \n",
       "2020-11-27  0.610001  1.269997  1.879997  7.550018  0.26  1.639999  26.139893   \n",
       "\n",
       "                APPS      AXDX  AYRO  ...     X-GAIN  XLNX-QTY  XLNX-MED  \\\n",
       "Date                                  ...                                  \n",
       "2020-11-27  2.299999  0.299999  0.94  ...  15.599985         3  3.855003   \n",
       "\n",
       "            XLNX-GAIN  XOM-QTY  XOM-MED   XOM-GAIN  ZM-QTY     ZM-MED  ZM-GAIN  \n",
       "Date                                                                            \n",
       "2020-11-27   11.56501       10     1.23  12.299995       0  24.424988      0.0  \n",
       "\n",
       "[1 rows x 516 columns]"
      ],
      "text/html": "<div>\n<style scoped>\n    .dataframe tbody tr th:only-of-type {\n        vertical-align: middle;\n    }\n\n    .dataframe tbody tr th {\n        vertical-align: top;\n    }\n\n    .dataframe thead th {\n        text-align: right;\n    }\n</style>\n<table border=\"1\" class=\"dataframe\">\n  <thead>\n    <tr style=\"text-align: right;\">\n      <th></th>\n      <th>AAL</th>\n      <th>AAPL</th>\n      <th>ABT</th>\n      <th>ADBE</th>\n      <th>AMC</th>\n      <th>AMD</th>\n      <th>AMZN</th>\n      <th>APPS</th>\n      <th>AXDX</th>\n      <th>AYRO</th>\n      <th>...</th>\n      <th>X-GAIN</th>\n      <th>XLNX-QTY</th>\n      <th>XLNX-MED</th>\n      <th>XLNX-GAIN</th>\n      <th>XOM-QTY</th>\n      <th>XOM-MED</th>\n      <th>XOM-GAIN</th>\n      <th>ZM-QTY</th>\n      <th>ZM-MED</th>\n      <th>ZM-GAIN</th>\n    </tr>\n    <tr>\n      <th>Date</th>\n      <th></th>\n      <th></th>\n      <th></th>\n      <th></th>\n      <th></th>\n      <th></th>\n      <th></th>\n      <th></th>\n      <th></th>\n      <th></th>\n      <th></th>\n      <th></th>\n      <th></th>\n      <th></th>\n      <th></th>\n      <th></th>\n      <th></th>\n      <th></th>\n      <th></th>\n      <th></th>\n      <th></th>\n    </tr>\n  </thead>\n  <tbody>\n    <tr>\n      <td>2020-11-27</td>\n      <td>0.610001</td>\n      <td>1.269997</td>\n      <td>1.879997</td>\n      <td>7.550018</td>\n      <td>0.26</td>\n      <td>1.639999</td>\n      <td>26.139893</td>\n      <td>2.299999</td>\n      <td>0.299999</td>\n      <td>0.94</td>\n      <td>...</td>\n      <td>15.599985</td>\n      <td>3</td>\n      <td>3.855003</td>\n      <td>11.56501</td>\n      <td>10</td>\n      <td>1.23</td>\n      <td>12.299995</td>\n      <td>0</td>\n      <td>24.424988</td>\n      <td>0.0</td>\n    </tr>\n  </tbody>\n</table>\n<p>1 rows × 516 columns</p>\n</div>"
     },
     "metadata": {},
     "execution_count": 114
    }
   ],
   "source": [
    "xo"
   ]
  },
  {
   "cell_type": "code",
   "execution_count": 122,
   "metadata": {},
   "outputs": [
    {
     "output_type": "execute_result",
     "data": {
      "text/plain": [
       "                  AAL      AAPL       ABT  ADBE        AMC        AMD  AMZN  \\\n",
       "Date                                                                          \n",
       "2020-11-27  16.385002  8.399986  9.279999   0.0  26.949986  13.199978   0.0   \n",
       "\n",
       "                 APPS       AXDX      AYRO  ...      WIFI       WING  \\\n",
       "Date                                        ...                        \n",
       "2020-11-27  31.450005  22.789991  22.36001  ...  18.80999  15.380997   \n",
       "\n",
       "                  WLL        WM       WMT       WYNN          X      XLNX  \\\n",
       "Date                                                                        \n",
       "2020-11-27  21.690016  6.389992  5.289993  15.139999  15.599985  11.56501   \n",
       "\n",
       "                  XOM   ZM  \n",
       "Date                        \n",
       "2020-11-27  12.299995  0.0  \n",
       "\n",
       "[1 rows x 129 columns]"
      ],
      "text/html": "<div>\n<style scoped>\n    .dataframe tbody tr th:only-of-type {\n        vertical-align: middle;\n    }\n\n    .dataframe tbody tr th {\n        vertical-align: top;\n    }\n\n    .dataframe thead th {\n        text-align: right;\n    }\n</style>\n<table border=\"1\" class=\"dataframe\">\n  <thead>\n    <tr style=\"text-align: right;\">\n      <th></th>\n      <th>AAL</th>\n      <th>AAPL</th>\n      <th>ABT</th>\n      <th>ADBE</th>\n      <th>AMC</th>\n      <th>AMD</th>\n      <th>AMZN</th>\n      <th>APPS</th>\n      <th>AXDX</th>\n      <th>AYRO</th>\n      <th>...</th>\n      <th>WIFI</th>\n      <th>WING</th>\n      <th>WLL</th>\n      <th>WM</th>\n      <th>WMT</th>\n      <th>WYNN</th>\n      <th>X</th>\n      <th>XLNX</th>\n      <th>XOM</th>\n      <th>ZM</th>\n    </tr>\n    <tr>\n      <th>Date</th>\n      <th></th>\n      <th></th>\n      <th></th>\n      <th></th>\n      <th></th>\n      <th></th>\n      <th></th>\n      <th></th>\n      <th></th>\n      <th></th>\n      <th></th>\n      <th></th>\n      <th></th>\n      <th></th>\n      <th></th>\n      <th></th>\n      <th></th>\n      <th></th>\n      <th></th>\n      <th></th>\n      <th></th>\n    </tr>\n  </thead>\n  <tbody>\n    <tr>\n      <td>2020-11-27</td>\n      <td>16.385002</td>\n      <td>8.399986</td>\n      <td>9.279999</td>\n      <td>0.0</td>\n      <td>26.949986</td>\n      <td>13.199978</td>\n      <td>0.0</td>\n      <td>31.450005</td>\n      <td>22.789991</td>\n      <td>22.36001</td>\n      <td>...</td>\n      <td>18.80999</td>\n      <td>15.380997</td>\n      <td>21.690016</td>\n      <td>6.389992</td>\n      <td>5.289993</td>\n      <td>15.139999</td>\n      <td>15.599985</td>\n      <td>11.56501</td>\n      <td>12.299995</td>\n      <td>0.0</td>\n    </tr>\n  </tbody>\n</table>\n<p>1 rows × 129 columns</p>\n</div>"
     },
     "metadata": {},
     "execution_count": 122
    }
   ],
   "source": [
    "xx=pd.DataFrame()\n",
    "for c in [xc for xc in xo.columns if xc in x ]:\n",
    "    xx[f\"{c}\"]=xo[f\"{c}-QTY\"]*xo[f\"{c}-MED\"]\n",
    "xx    "
   ]
  },
  {
   "cell_type": "code",
   "execution_count": 125,
   "metadata": {},
   "outputs": [
    {
     "output_type": "execute_result",
     "data": {
      "text/plain": [
       "'[{\"AAL\":16.3850016594,\"AAPL\":8.3999862671,\"ABT\":9.2799987793,\"ADBE\":0.0,\"AMC\":26.949985981,\"AMD\":13.1999778748,\"AMZN\":0.0,\"APPS\":31.4500045776,\"AXDX\":22.7899909019,\"AYRO\":22.3600096703,\"AZO\":0.0,\"BA\":16.25,\"BIG\":17.2400054932,\"BKNG\":0.0,\"BLK\":0.0,\"BLNK\":20.9249997139,\"BUD\":5.5200004578,\"CAT\":7.1500091553,\"CCL\":19.2000102997,\"CLDR\":13.6899781227,\"CLX\":10.8400115967,\"CMCSA\":9.5999908447,\"CMG\":0.0,\"COST\":5.6249847412,\"CRUS\":10.3499794006,\"CSCO\":7.8999900818,\"CVX\":10.7799835205,\"D\":9.1749954224,\"DIS\":6.879989624,\"DOCU\":8.6750030518,\"DPW\":12.2399969101,\"ED\":9.075012207,\"ENR\":13.8999938965,\"F\":11.760017395,\"FB\":6.4800109863,\"FIZZ\":15.2599945068,\"GD\":5.75,\"GNMK\":24.5850119591,\"GP\":28.730009079,\"HD\":4.9050140381,\"HOG\":12.0999908447,\"HPQ\":10.6400079727,\"IBB\":6.7350082397,\"IDEX\":18.0549968183,\"IRM\":10.9600067139,\"JNJ\":6.5099945068,\"JO\":6.8694925308,\"JPM\":7.9649963379,\"K\":7.5899963379,\"KHC\":9.6525039673,\"KLAC\":5.8649978638,\"KMB\":7.8599853516,\"KNDI\":43.9999847412,\"KO\":6.4799957275,\"KR\":9.3600158691,\"KSS\":19.1750049591,\"LL\":22.5399951935,\"LMT\":7.0,\"LRCX\":0.0,\"LSI\":10.120010376,\"LUV\":14.9850082397,\"M\":20.0,\"MCHP\":10.5750045776,\"MMM\":6.0699920654,\"MO\":8.6500167847,\"MRK\":8.0999946594,\"MRNA\":14.953502655,\"MRO\":22.1000032425,\"MSCI\":10.7250061035,\"MSFT\":8.8899993896,\"MU\":8.5499954224,\"MUSA\":9.8100128174,\"NCLH\":17.6399917603,\"NET\":15.1375007629,\"NEWR\":15.5749893188,\"NIO\":34.6000061035,\"NKLA\":29.5500040054,\"NOW\":0.0,\"NVR\":0.0,\"ODP\":15.8200149536,\"ON\":12.0749902725,\"ORCL\":6.4749946594,\"ORLY\":0.0,\"ORN\":21.714979291,\"OSG\":14.7459907532,\"PAYC\":13.5200042725,\"PEP\":6.1799926758,\"PFGC\":18.3599910736,\"PINC\":13.319984436,\"PM\":7.0499992371,\"PRAA\":15.6500244141,\"PRPL\":27.6149978638,\"QCOM\":11.3999862671,\"RCL\":13.9499950409,\"ROKU\":11.310005188,\"ROST\":9.9150123596,\"SBUX\":7.200012207,\"SHOP\":0.0,\"SHW\":0.0,\"SILV\":25.250005722,\"SLV\":6.9000053406,\"SOLO\":53.0400238037,\"SPY\":4.1100006104,\"SQ\":18.3500061035,\"SRVR\":6.2519989014,\"STM\":6.7649974823,\"SWK\":8.5999908447,\"TCEHY\":7.4999809265,\"TPB\":16.3899974823,\"TQQQ\":13.6900177002,\"TSLA\":0.0,\"TSM\":8.3600158691,\"TWOU\":21.1575069427,\"TWTR\":13.3200130463,\"TXN\":5.7499847412,\"VLY\":13.109992981,\"VTI\":4.2200012207,\"WBA\":13.8049907684,\"WFC\":9.9750137329,\"WIFI\":18.8099899292,\"WING\":15.3809967041,\"WLL\":21.6900157928,\"WM\":6.3899917603,\"WMT\":5.2899932861,\"WYNN\":15.1399993896,\"X\":15.5999851227,\"XLNX\":11.5650100708,\"XOM\":12.2999954224,\"ZM\":0.0}]'"
      ]
     },
     "metadata": {},
     "execution_count": 125
    }
   ],
   "source": [
    "xx.to_json(orient=\"records\")"
   ]
  },
  {
   "cell_type": "code",
   "execution_count": 143,
   "metadata": {},
   "outputs": [
    {
     "output_type": "error",
     "ename": "AttributeError",
     "evalue": "'str' object has no attribute 'items'",
     "traceback": [
      "\u001b[0;31m---------------------------------------------------------------------------\u001b[0m",
      "\u001b[0;31mAttributeError\u001b[0m                            Traceback (most recent call last)",
      "\u001b[0;32m<ipython-input-143-e891a0746fde>\u001b[0m in \u001b[0;36m<module>\u001b[0;34m\u001b[0m\n\u001b[0;32m----> 1\u001b[0;31m \u001b[0mlist\u001b[0m\u001b[0;34m(\u001b[0m\u001b[0mmap\u001b[0m\u001b[0;34m(\u001b[0m\u001b[0;32mlambda\u001b[0m \u001b[0mx\u001b[0m\u001b[0;34m:\u001b[0m \u001b[0mmap\u001b[0m\u001b[0;34m(\u001b[0m\u001b[0;32mlambda\u001b[0m \u001b[0mf\u001b[0m\u001b[0;34m:\u001b[0m\u001b[0mf\u001b[0m\u001b[0;34m[\u001b[0m\u001b[0;36m1\u001b[0m\u001b[0;34m]\u001b[0m\u001b[0;34m,\u001b[0m\u001b[0mx\u001b[0m\u001b[0;34m.\u001b[0m\u001b[0mitems\u001b[0m\u001b[0;34m(\u001b[0m\u001b[0;34m)\u001b[0m\u001b[0;34m)\u001b[0m\u001b[0;34m,\u001b[0m\u001b[0mxx\u001b[0m\u001b[0;34m.\u001b[0m\u001b[0mto_dict\u001b[0m\u001b[0;34m(\u001b[0m\u001b[0;34m)\u001b[0m\u001b[0;34m)\u001b[0m\u001b[0;34m)\u001b[0m\u001b[0;34m\u001b[0m\u001b[0;34m\u001b[0m\u001b[0m\n\u001b[0m\u001b[1;32m      2\u001b[0m \u001b[0;34m\u001b[0m\u001b[0m\n",
      "\u001b[0;32m<ipython-input-143-e891a0746fde>\u001b[0m in \u001b[0;36m<lambda>\u001b[0;34m(x)\u001b[0m\n\u001b[0;32m----> 1\u001b[0;31m \u001b[0mlist\u001b[0m\u001b[0;34m(\u001b[0m\u001b[0mmap\u001b[0m\u001b[0;34m(\u001b[0m\u001b[0;32mlambda\u001b[0m \u001b[0mx\u001b[0m\u001b[0;34m:\u001b[0m \u001b[0mmap\u001b[0m\u001b[0;34m(\u001b[0m\u001b[0;32mlambda\u001b[0m \u001b[0mf\u001b[0m\u001b[0;34m:\u001b[0m\u001b[0mf\u001b[0m\u001b[0;34m[\u001b[0m\u001b[0;36m1\u001b[0m\u001b[0;34m]\u001b[0m\u001b[0;34m,\u001b[0m\u001b[0mx\u001b[0m\u001b[0;34m.\u001b[0m\u001b[0mitems\u001b[0m\u001b[0;34m(\u001b[0m\u001b[0;34m)\u001b[0m\u001b[0;34m)\u001b[0m\u001b[0;34m,\u001b[0m\u001b[0mxx\u001b[0m\u001b[0;34m.\u001b[0m\u001b[0mto_dict\u001b[0m\u001b[0;34m(\u001b[0m\u001b[0;34m)\u001b[0m\u001b[0;34m)\u001b[0m\u001b[0;34m)\u001b[0m\u001b[0;34m\u001b[0m\u001b[0;34m\u001b[0m\u001b[0m\n\u001b[0m\u001b[1;32m      2\u001b[0m \u001b[0;34m\u001b[0m\u001b[0m\n",
      "\u001b[0;31mAttributeError\u001b[0m: 'str' object has no attribute 'items'"
     ]
    }
   ],
   "source": [
    "\n",
    "\n",
    "\n"
   ]
  },
  {
   "cell_type": "code",
   "execution_count": null,
   "metadata": {},
   "outputs": [],
   "source": []
  }
 ]
}