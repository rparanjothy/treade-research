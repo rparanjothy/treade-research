{
 "metadata": {
  "language_info": {
   "codemirror_mode": {
    "name": "ipython",
    "version": 3
   },
   "file_extension": ".py",
   "mimetype": "text/x-python",
   "name": "python",
   "nbconvert_exporter": "python",
   "pygments_lexer": "ipython3",
   "version": "3.7.4-final"
  },
  "orig_nbformat": 2,
  "kernelspec": {
   "name": "python3",
   "display_name": "Python 3"
  }
 },
 "nbformat": 4,
 "nbformat_minor": 2,
 "cells": [
  {
   "cell_type": "code",
   "execution_count": null,
   "metadata": {},
   "outputs": [],
   "source": [
    "import random\n",
    "from collections import Counter\n",
    "\n",
    "c=Counter([ \"notWin\" if random.random()<.5 else \"Win\" for x in range(1000)])\n",
    "c\n"
   ]
  },
  {
   "cell_type": "code",
   "execution_count": null,
   "metadata": {},
   "outputs": [],
   "source": [
    "def updateCap(x):\n",
    "    cap['bal']*=x\n",
    "    cap['close']=cap['lo']+cap['bal']\n",
    "    # print(cap)"
   ]
  },
  {
   "cell_type": "code",
   "execution_count": 181,
   "metadata": {},
   "outputs": [
    {
     "output_type": "execute_result",
     "data": {
      "text/plain": [
       "{'close': 2491.9086228624874, 'bal': 1928.9086228624874, 'lo': 563.0}"
      ]
     },
     "metadata": {},
     "execution_count": 181
    }
   ],
   "source": [
    "cx=1000\n",
    "cap={'close':cx,'bal':cx*.437,\"lo\":cx*.563}\n",
    "[updateCap(1-0.0175) if random.random()<.5 else updateCap(1.0275) for x in range(200)]\n",
    "cap\n"
   ]
  },
  {
   "cell_type": "code",
   "execution_count": 183,
   "metadata": {
    "tags": []
   },
   "outputs": [
    {
     "output_type": "stream",
     "name": "stdout",
     "text": [
      "1.287\n1.44\n0.885\n1.287\n0.954\n0.99\n1.611\n1.673\n1.611\n0.852\n1.108\n1.737\n0.762\n1.108\n1.673\n1.108\n1.15\n2.174\n0.99\n1.611\n"
     ]
    },
    {
     "output_type": "execute_result",
     "data": {
      "text/plain": [
       "{0: {'x': 1.287, 'in': 865.697, 'out': 1114.05, 'close': 2229.358},\n",
       " 1: {'x': 1.44, 'in': 865.697, 'out': 1246.55, 'close': 2361.852},\n",
       " 2: {'x': 0.885, 'in': 865.697, 'out': 766.0, 'close': 1881.306},\n",
       " 3: {'x': 1.287, 'in': 865.697, 'out': 1114.05, 'close': 2229.358},\n",
       " 4: {'x': 0.954, 'in': 865.697, 'out': 825.59, 'close': 1940.895},\n",
       " 5: {'x': 0.99, 'in': 865.697, 'out': 857.1, 'close': 1972.407},\n",
       " 6: {'x': 1.611, 'in': 865.697, 'out': 1394.8, 'close': 2510.104},\n",
       " 7: {'x': 1.673, 'in': 865.697, 'out': 1448.04, 'close': 2563.341},\n",
       " 8: {'x': 1.611, 'in': 865.697, 'out': 1394.8, 'close': 2510.104},\n",
       " 9: {'x': 0.852, 'in': 865.697, 'out': 737.84, 'close': 1853.144},\n",
       " 10: {'x': 1.108, 'in': 865.697, 'out': 959.04, 'close': 2074.342},\n",
       " 11: {'x': 1.737, 'in': 865.697, 'out': 1503.31, 'close': 2618.609},\n",
       " 12: {'x': 0.762, 'in': 865.697, 'out': 659.42, 'close': 1774.72},\n",
       " 13: {'x': 1.108, 'in': 865.697, 'out': 959.04, 'close': 2074.342},\n",
       " 14: {'x': 1.673, 'in': 865.697, 'out': 1448.04, 'close': 2563.341},\n",
       " 15: {'x': 1.108, 'in': 865.697, 'out': 959.04, 'close': 2074.342},\n",
       " 16: {'x': 1.15, 'in': 865.697, 'out': 995.64, 'close': 2110.946},\n",
       " 17: {'x': 2.174, 'in': 865.697, 'out': 1882.15, 'close': 2997.448},\n",
       " 18: {'x': 0.99, 'in': 865.697, 'out': 857.1, 'close': 1972.407},\n",
       " 19: {'x': 1.611, 'in': 865.697, 'out': 1394.8, 'close': 2510.104}}"
      ]
     },
     "metadata": {},
     "execution_count": 183
    }
   ],
   "source": [
    "o={}\n",
    "cx=1981\n",
    "for i in range(20):\n",
    "    cap={'close':cx,'open':cx,'bal':cx*.437,\"lo\":cx*.563}\n",
    "    x=cap['bal']\n",
    "    [updateCap(1-0.0175) if random.random()<.5 else updateCap(1.02) for x in range(200)]\n",
    "    print(str(round(round(cap['bal'],2) / x ,3)))\n",
    "    o={**o,i:{\"x\": round(round(cap['bal'],2) / x ,3),f\"in\":x,f\"out\":round(cap['bal'],2),\"close\":round(cap['close'],3)}}\n",
    "o    \n",
    "\n"
   ]
  },
  {
   "cell_type": "code",
   "execution_count": null,
   "metadata": {},
   "outputs": [],
   "source": []
  }
 ]
}