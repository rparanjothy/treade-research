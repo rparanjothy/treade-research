{
 "metadata": {
  "language_info": {
   "codemirror_mode": {
    "name": "ipython",
    "version": 3
   },
   "file_extension": ".py",
   "mimetype": "text/x-python",
   "name": "python",
   "nbconvert_exporter": "python",
   "pygments_lexer": "ipython3",
   "version": "3.7.4-final"
  },
  "orig_nbformat": 2,
  "kernelspec": {
   "name": "python3",
   "display_name": "Python 3"
  }
 },
 "nbformat": 4,
 "nbformat_minor": 2,
 "cells": [
  {
   "cell_type": "code",
   "execution_count": 24,
   "metadata": {},
   "outputs": [],
   "source": [
    "from concurrent import futures\n",
    "import time\n",
    "p=futures.ThreadPoolExecutor(4)"
   ]
  },
  {
   "cell_type": "code",
   "execution_count": 57,
   "metadata": {},
   "outputs": [],
   "source": [
    "def x():\n",
    "    time.sleep(10)\n",
    "    print('I am adding')\n",
    "    return 1"
   ]
  },
  {
   "cell_type": "code",
   "execution_count": 58,
   "metadata": {},
   "outputs": [
    {
     "output_type": "stream",
     "name": "stdout",
     "text": [
      "SUNMIOTT\n"
     ]
    }
   ],
   "source": [
    "cc=[p.submit(x) for i in range(8)]\n",
    "print(\"SUNMIOTT\")"
   ]
  },
  {
   "cell_type": "code",
   "execution_count": 59,
   "metadata": {},
   "outputs": [
    {
     "output_type": "stream",
     "name": "stdout",
     "text": [
      "I am addingI am addingI am addingI am adding\n",
      "\n",
      "\n",
      "1\n",
      "\n",
      "1\n",
      "1\n",
      "1\n",
      "I am adding\n",
      "I am adding\n",
      "1\n",
      "1\n",
      "I am adding\n",
      "1\n",
      "I am adding\n",
      "1\n"
     ]
    }
   ],
   "source": [
    "for future in concurrent.futures.as_completed(cc):\n",
    "    print(future.result())"
   ]
  },
  {
   "cell_type": "code",
   "execution_count": null,
   "metadata": {},
   "outputs": [],
   "source": []
  }
 ]
}