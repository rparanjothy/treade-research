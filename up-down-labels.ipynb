{
 "metadata": {
  "language_info": {
   "codemirror_mode": {
    "name": "ipython",
    "version": 3
   },
   "file_extension": ".py",
   "mimetype": "text/x-python",
   "name": "python",
   "nbconvert_exporter": "python",
   "pygments_lexer": "ipython3",
   "version": "3.7.4-final"
  },
  "orig_nbformat": 2,
  "kernelspec": {
   "name": "python3",
   "display_name": "Python 3"
  }
 },
 "nbformat": 4,
 "nbformat_minor": 2,
 "cells": [
  {
   "cell_type": "code",
   "execution_count": 1,
   "metadata": {},
   "outputs": [
    {
     "output_type": "stream",
     "name": "stdout",
     "text": [
      "Starting\n"
     ]
    }
   ],
   "source": [
    "print(\"Starting\")"
   ]
  },
  {
   "cell_type": "code",
   "execution_count": 2,
   "metadata": {},
   "outputs": [],
   "source": [
    "import pandas as pd\n",
    "import pandas_datareader as r\n",
    "from datetime import datetime,timedelta\n",
    "import plotly.graph_objects as go\n",
    "from plotly.subplots import make_subplots\n",
    "from functools import reduce\n",
    "import yfinance\n"
   ]
  },
  {
   "cell_type": "code",
   "execution_count": 162,
   "metadata": {},
   "outputs": [],
   "source": [
    "ticker='AMD'"
   ]
  },
  {
   "cell_type": "code",
   "execution_count": 165,
   "metadata": {},
   "outputs": [
    {
     "output_type": "stream",
     "name": "stdout",
     "text": [
      "[*********************100%***********************]  1 of 1 completed\n"
     ]
    },
    {
     "output_type": "execute_result",
     "data": {
      "text/plain": [
       "{'days': '20d',\n",
       " 'strength': 0.95,\n",
       " 'range': [{'sigma': 1, 'low': 0.9733670392665612, 'high': 1.0358237100044372},\n",
       "  {'sigma': 2, 'low': 0.9421387038976232, 'high': 1.0670520453733752},\n",
       "  {'sigma': 3, 'low': 0.9109103685286852, 'high': 1.0982803807423132}]}"
      ]
     },
     "metadata": {},
     "execution_count": 165
    }
   ],
   "source": [
    "b=87.54\n",
    "i=yfinance.download(tickers=ticker,period=\"20d\",interval=\"1d\")\n",
    "i['delta']=i['Close']-i['Close'].shift(1)\n",
    "i['R']=i['High']-i['Low']\n",
    "# i['deltacum']=i['delta'].cumsum()\n",
    "i['gainPerUnit']=i['Close']-b\n",
    "# i['gainPctChange']=i['gainPerUnit'].pct_change(1)\n",
    "i['pctChange']=i['Close'].pct_change(1)\n",
    "i['pctChangeCum']=i['pctChange'].cumsum()\n",
    "# i['e']=b+i['deltacum']\n",
    "# i['e1']=i['e']/b\n",
    "# i['direction'] = i['delta'].gt(0).astype(int).map(lambda x:1 if x>0 else -1 )\n",
    "# \n",
    "# i['direction'] = i['delta'].gt(0).astype(int)\n",
    "# i['f']=i['direction'].map(lambda x:\"UP\" if x>0 else \"DOWN\")\n",
    "# i['buy']=(i['direction'].ne(i['direction'].shift(1)) & (i[\"direction\"].eq(1))).map(lambda x: \"Buy\" if x else None)\n",
    "# i['fc']=i['direction'].rolling(5).sum()\n",
    "i['growthX']=(i['Close']/i['Close'].shift(1))\n",
    "x = i['growthX']\n",
    "mn,mx,s,mu,me = x.min(),x.max(),x.std(),x.mean(),x.median()\n",
    "i['strength']=(i['Close']-i['Close'].min())/(i['Close'].max()-i['Close'].min())\n",
    "currStrength=i['strength'][-1]\n",
    "o=[{k:v for k, v in zip((\"sigma\",\"low\",\"high\"),(a,mu-(a*s), mu+(a*s)))} for a in range(1,4)]\n",
    "out={}\n",
    "out['days']=\"20d\"\n",
    "out[\"strength\"]=round(currStrength,2)\n",
    "out['range']=o\n",
    "out\n",
    "# round(i,3)\n"
   ]
  },
  {
   "cell_type": "code",
   "execution_count": 161,
   "metadata": {},
   "outputs": [
    {
     "output_type": "execute_result",
     "data": {
      "text/plain": [
       "1.0"
      ]
     },
     "metadata": {},
     "execution_count": 161
    }
   ],
   "source": [
    "currStrength"
   ]
  },
  {
   "cell_type": "code",
   "execution_count": 175,
   "metadata": {},
   "outputs": [],
   "source": [
    "def getInsights(ticker):\n",
    "    i=yfinance.download(tickers=ticker,period=\"20d\",interval=\"1d\")\n",
    "    i['delta']=i['Close']-i['Close'].shift(1)\n",
    "    i['R']=i['High']-i['Low']\n",
    "    # i['gainPerUnit']=i['Close']-b\n",
    "    i['pctChange']=i['Close'].pct_change(1)\n",
    "    i['pctChangeCum']=i['pctChange'].cumsum()\n",
    "    i['growthX']=(i['Close']/i['Close'].shift(1))\n",
    "    x = i['growthX']\n",
    "    mn,mx,s,mu,me = x.min(),x.max(),x.std(),x.mean(),x.median()\n",
    "    i['strength']=(i['Close']-i['Close'].min())/(i['Close'].max()-i['Close'].min())\n",
    "    currStrength=i['strength'][-1]\n",
    "    o=[{k:v for k, v in zip((\"sigma\",\"low\",\"high\"),(a,mu-(a*s), mu+(a*s)))} for a in range(1,4)]\n",
    "    out={}\n",
    "    out['days']=\"20d\"\n",
    "    out[\"strength\"]=round(currStrength,2)\n",
    "    out['x']=o\n",
    "    out[\"ticker\"]=ticker\n",
    "    return out\n",
    "# round(i,3)"
   ]
  },
  {
   "cell_type": "code",
   "execution_count": 176,
   "metadata": {},
   "outputs": [
    {
     "output_type": "stream",
     "name": "stdout",
     "text": [
      "[*********************100%***********************]  1 of 1 completed\n",
      "[*********************100%***********************]  1 of 1 completed\n"
     ]
    },
    {
     "output_type": "execute_result",
     "data": {
      "text/plain": [
       "[{'days': '20d',\n",
       "  'strength': 0.95,\n",
       "  'x': [{'sigma': 1, 'low': 0.9733670392665612, 'high': 1.0358237100044372},\n",
       "   {'sigma': 2, 'low': 0.9421387038976232, 'high': 1.0670520453733752},\n",
       "   {'sigma': 3, 'low': 0.9109103685286852, 'high': 1.0982803807423132}],\n",
       "  'ticker': 'AMD'},\n",
       " {'days': '20d',\n",
       "  'strength': 1.0,\n",
       "  'x': [{'sigma': 1, 'low': 0.9688592110196612, 'high': 1.0546483723000837},\n",
       "   {'sigma': 2, 'low': 0.9259646303794501, 'high': 1.097542952940295},\n",
       "   {'sigma': 3, 'low': 0.8830700497392389, 'high': 1.140437533580506}],\n",
       "  'ticker': 'TSLA'}]"
      ]
     },
     "metadata": {},
     "execution_count": 176
    }
   ],
   "source": [
    "list(map(getInsights,[\"AMD\",\"TSLA\"]))"
   ]
  },
  {
   "cell_type": "code",
   "execution_count": null,
   "metadata": {},
   "outputs": [],
   "source": []
  }
 ]
}