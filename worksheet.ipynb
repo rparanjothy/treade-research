{
 "metadata": {
  "language_info": {
   "codemirror_mode": {
    "name": "ipython",
    "version": 3
   },
   "file_extension": ".py",
   "mimetype": "text/x-python",
   "name": "python",
   "nbconvert_exporter": "python",
   "pygments_lexer": "ipython3",
   "version": "3.7.4-final"
  },
  "orig_nbformat": 2,
  "kernelspec": {
   "name": "python3",
   "display_name": "Python 3"
  }
 },
 "nbformat": 4,
 "nbformat_minor": 2,
 "cells": [
  {
   "cell_type": "code",
   "execution_count": null,
   "metadata": {},
   "outputs": [],
   "source": [
    "import pandas as pd\n",
    "import pandas_datareader as r\n",
    "from datetime import datetime,timedelta\n",
    "import plotly.graph_objects as go\n",
    "from plotly.subplots import make_subplots\n",
    "from functools import reduce\n",
    "\n",
    "\n"
   ]
  },
  {
   "cell_type": "code",
   "execution_count": 75,
   "metadata": {},
   "outputs": [
    {
     "output_type": "execute_result",
     "data": {
      "text/plain": [
       "(Timestamp('2020-10-24 17:39:28.335990'),\n",
       " Timestamp('2020-11-23 17:39:28.335990'))"
      ]
     },
     "metadata": {},
     "execution_count": 75
    }
   ],
   "source": [
    "end_dt = pd.to_datetime(datetime.now())\n",
    "goback = 30\n",
    "st_dt = end_dt - timedelta(days=goback)\n",
    "st_dt,end_dt"
   ]
  },
  {
   "cell_type": "code",
   "execution_count": 146,
   "metadata": {},
   "outputs": [
    {
     "output_type": "execute_result",
     "data": {
      "text/plain": [
       "Index(['High', 'Low', 'Open', 'Close', 'Volume', 'Adj Close'], dtype='object')"
      ]
     },
     "metadata": {},
     "execution_count": 146
    }
   ],
   "source": [
    "tickers=['AMD','AAPL','TSLA']\n",
    "df = r.DataReader(\"AMD\",\"yahoo\",st_dt)\n",
    "df.columns\n"
   ]
  },
  {
   "cell_type": "code",
   "execution_count": null,
   "metadata": {},
   "outputs": [],
   "source": [
    "df['x']=(2*df.Close - df.High - df.Low)/((df.High - df.Low)*df.Volume)"
   ]
  },
  {
   "cell_type": "code",
   "execution_count": null,
   "metadata": {},
   "outputs": [],
   "source": [
    "f = make_subplots(specs=[[{\"secondary_y\": True}]])\n",
    "x = go.Scatter(x=df.index ,y=df['x'],name=\"X\")\n",
    "x1= go.Scatter(x=df.index ,y=df['High'],name=\"X1\")\n",
    "\n",
    "f.add_trace(x,secondary_y=True)\n",
    "f.add_trace(x1,secondary_y=False)\n",
    "\n"
   ]
  },
  {
   "cell_type": "code",
   "execution_count": 76,
   "metadata": {},
   "outputs": [
    {
     "output_type": "execute_result",
     "data": {
      "text/plain": [
       "                 High        Low       Open      Close     Volume  Adj Close  \\\n",
       "Date                                                                           \n",
       "2020-07-27  71.629997  67.790001  69.279999  68.970001  107918100  68.970001   \n",
       "2020-07-28  69.800003  67.019997  68.099998  67.610001   94181400  67.610001   \n",
       "2020-07-29  77.190002  73.900002  75.500000  76.089996  132969700  76.089996   \n",
       "2020-07-30  78.959999  75.070000  75.370003  78.199997   80286900  78.199997   \n",
       "2020-07-31  78.959999  75.360001  78.669998  77.430000   71699700  77.430000   \n",
       "...               ...        ...        ...        ...        ...        ...   \n",
       "2020-11-17  84.809998  82.910004  83.930000  83.360001   29473500  83.360001   \n",
       "2020-11-18  83.959999  82.220001  83.010002  82.540001   29968000  82.540001   \n",
       "2020-11-19  85.639999  81.720001  82.389999  85.540001   50116800  85.540001   \n",
       "2020-11-20  86.099998  84.470001  85.279999  84.639999   34974800  84.639999   \n",
       "2020-11-23  87.540001  84.614998  85.519997  85.309998   45896932  85.309998   \n",
       "\n",
       "                       x  \n",
       "Date                      \n",
       "2020-07-27 -3.571374e-09  \n",
       "2020-07-28 -6.110949e-09  \n",
       "2020-07-29  2.491571e-09  \n",
       "2020-07-30  7.588453e-09  \n",
       "2020-07-31  2.092063e-09  \n",
       "...                  ...  \n",
       "2020-11-17 -1.785731e-08  \n",
       "2020-11-18 -2.109530e-08  \n",
       "2020-11-19  1.893537e-08  \n",
       "2020-11-20 -2.262809e-08  \n",
       "2020-11-23 -1.143403e-08  \n",
       "\n",
       "[85 rows x 7 columns]"
      ],
      "text/html": "<div>\n<style scoped>\n    .dataframe tbody tr th:only-of-type {\n        vertical-align: middle;\n    }\n\n    .dataframe tbody tr th {\n        vertical-align: top;\n    }\n\n    .dataframe thead th {\n        text-align: right;\n    }\n</style>\n<table border=\"1\" class=\"dataframe\">\n  <thead>\n    <tr style=\"text-align: right;\">\n      <th></th>\n      <th>High</th>\n      <th>Low</th>\n      <th>Open</th>\n      <th>Close</th>\n      <th>Volume</th>\n      <th>Adj Close</th>\n      <th>x</th>\n    </tr>\n    <tr>\n      <th>Date</th>\n      <th></th>\n      <th></th>\n      <th></th>\n      <th></th>\n      <th></th>\n      <th></th>\n      <th></th>\n    </tr>\n  </thead>\n  <tbody>\n    <tr>\n      <td>2020-07-27</td>\n      <td>71.629997</td>\n      <td>67.790001</td>\n      <td>69.279999</td>\n      <td>68.970001</td>\n      <td>107918100</td>\n      <td>68.970001</td>\n      <td>-3.571374e-09</td>\n    </tr>\n    <tr>\n      <td>2020-07-28</td>\n      <td>69.800003</td>\n      <td>67.019997</td>\n      <td>68.099998</td>\n      <td>67.610001</td>\n      <td>94181400</td>\n      <td>67.610001</td>\n      <td>-6.110949e-09</td>\n    </tr>\n    <tr>\n      <td>2020-07-29</td>\n      <td>77.190002</td>\n      <td>73.900002</td>\n      <td>75.500000</td>\n      <td>76.089996</td>\n      <td>132969700</td>\n      <td>76.089996</td>\n      <td>2.491571e-09</td>\n    </tr>\n    <tr>\n      <td>2020-07-30</td>\n      <td>78.959999</td>\n      <td>75.070000</td>\n      <td>75.370003</td>\n      <td>78.199997</td>\n      <td>80286900</td>\n      <td>78.199997</td>\n      <td>7.588453e-09</td>\n    </tr>\n    <tr>\n      <td>2020-07-31</td>\n      <td>78.959999</td>\n      <td>75.360001</td>\n      <td>78.669998</td>\n      <td>77.430000</td>\n      <td>71699700</td>\n      <td>77.430000</td>\n      <td>2.092063e-09</td>\n    </tr>\n    <tr>\n      <td>...</td>\n      <td>...</td>\n      <td>...</td>\n      <td>...</td>\n      <td>...</td>\n      <td>...</td>\n      <td>...</td>\n      <td>...</td>\n    </tr>\n    <tr>\n      <td>2020-11-17</td>\n      <td>84.809998</td>\n      <td>82.910004</td>\n      <td>83.930000</td>\n      <td>83.360001</td>\n      <td>29473500</td>\n      <td>83.360001</td>\n      <td>-1.785731e-08</td>\n    </tr>\n    <tr>\n      <td>2020-11-18</td>\n      <td>83.959999</td>\n      <td>82.220001</td>\n      <td>83.010002</td>\n      <td>82.540001</td>\n      <td>29968000</td>\n      <td>82.540001</td>\n      <td>-2.109530e-08</td>\n    </tr>\n    <tr>\n      <td>2020-11-19</td>\n      <td>85.639999</td>\n      <td>81.720001</td>\n      <td>82.389999</td>\n      <td>85.540001</td>\n      <td>50116800</td>\n      <td>85.540001</td>\n      <td>1.893537e-08</td>\n    </tr>\n    <tr>\n      <td>2020-11-20</td>\n      <td>86.099998</td>\n      <td>84.470001</td>\n      <td>85.279999</td>\n      <td>84.639999</td>\n      <td>34974800</td>\n      <td>84.639999</td>\n      <td>-2.262809e-08</td>\n    </tr>\n    <tr>\n      <td>2020-11-23</td>\n      <td>87.540001</td>\n      <td>84.614998</td>\n      <td>85.519997</td>\n      <td>85.309998</td>\n      <td>45896932</td>\n      <td>85.309998</td>\n      <td>-1.143403e-08</td>\n    </tr>\n  </tbody>\n</table>\n<p>85 rows × 7 columns</p>\n</div>"
     },
     "metadata": {},
     "execution_count": 76
    }
   ],
   "source": [
    "df"
   ]
  },
  {
   "cell_type": "code",
   "execution_count": 78,
   "metadata": {},
   "outputs": [],
   "source": [
    "df['pct_change']=df['Close'].pct_change(1)"
   ]
  },
  {
   "cell_type": "code",
   "execution_count": 83,
   "metadata": {},
   "outputs": [],
   "source": [
    "df['growthX']=(df['Close']/df['Close'].shift(1))"
   ]
  },
  {
   "cell_type": "code",
   "execution_count": 90,
   "metadata": {},
   "outputs": [],
   "source": [
    "x = df['growthX']"
   ]
  },
  {
   "cell_type": "code",
   "execution_count": 92,
   "metadata": {},
   "outputs": [],
   "source": [
    "mn,mx,s,mu,me = x.min(),x.max(),x.std(),x.mean(),x.median()"
   ]
  },
  {
   "cell_type": "code",
   "execution_count": 93,
   "metadata": {},
   "outputs": [
    {
     "output_type": "execute_result",
     "data": {
      "text/plain": [
       "0.9148747483788171"
      ]
     },
     "metadata": {},
     "execution_count": 93
    }
   ],
   "source": [
    "mn"
   ]
  },
  {
   "cell_type": "code",
   "execution_count": 138,
   "metadata": {},
   "outputs": [
    {
     "output_type": "execute_result",
     "data": {
      "text/plain": [
       "{'days': 30,\n",
       " 'range': [{'sigma': 1, 'low': 0.9691745989090985, 'high': 1.0370155364141596},\n",
       "  {'sigma': 2, 'low': 0.935254130156568, 'high': 1.07093600516669},\n",
       "  {'sigma': 3, 'low': 0.9013336614040375, 'high': 1.1048564739192206}]}"
      ]
     },
     "metadata": {},
     "execution_count": 138
    }
   ],
   "source": [
    "\n",
    "o=[{k:v for k, v in zip((\"sigma\",\"low\",\"high\"),(a,mu-(a*s), mu+(a*s)))} for a in range(1,4)]\n",
    "out={}\n",
    "out['days']=goback\n",
    "out['range']=o\n",
    "out\n"
   ]
  },
  {
   "cell_type": "code",
   "execution_count": 139,
   "metadata": {},
   "outputs": [
    {
     "output_type": "execute_result",
     "data": {
      "text/plain": [
       "                 High        Low       Open      Close     Volume  Adj Close  \\\n",
       "Date                                                                           \n",
       "2020-07-27  71.629997  67.790001  69.279999  68.970001  107918100  68.970001   \n",
       "2020-07-28  69.800003  67.019997  68.099998  67.610001   94181400  67.610001   \n",
       "2020-07-29  77.190002  73.900002  75.500000  76.089996  132969700  76.089996   \n",
       "2020-07-30  78.959999  75.070000  75.370003  78.199997   80286900  78.199997   \n",
       "2020-07-31  78.959999  75.360001  78.669998  77.430000   71699700  77.430000   \n",
       "...               ...        ...        ...        ...        ...        ...   \n",
       "2020-11-17  84.809998  82.910004  83.930000  83.360001   29473500  83.360001   \n",
       "2020-11-18  83.959999  82.220001  83.010002  82.540001   29968000  82.540001   \n",
       "2020-11-19  85.639999  81.720001  82.389999  85.540001   50116800  85.540001   \n",
       "2020-11-20  86.099998  84.470001  85.279999  84.639999   34974800  84.639999   \n",
       "2020-11-23  87.540001  84.614998  85.519997  85.309998   45896932  85.309998   \n",
       "\n",
       "                       x  pct_change   growthX  \n",
       "Date                                            \n",
       "2020-07-27 -3.571374e-09         NaN       NaN  \n",
       "2020-07-28 -6.110949e-09   -0.019719  0.980281  \n",
       "2020-07-29  2.491571e-09    0.125425  1.125425  \n",
       "2020-07-30  7.588453e-09    0.027730  1.027730  \n",
       "2020-07-31  2.092063e-09   -0.009847  0.990153  \n",
       "...                  ...         ...       ...  \n",
       "2020-11-17 -1.785731e-08   -0.004419  0.995581  \n",
       "2020-11-18 -2.109530e-08   -0.009837  0.990163  \n",
       "2020-11-19  1.893537e-08    0.036346  1.036346  \n",
       "2020-11-20 -2.262809e-08   -0.010521  0.989479  \n",
       "2020-11-23 -1.143403e-08    0.007916  1.007916  \n",
       "\n",
       "[85 rows x 9 columns]"
      ],
      "text/html": "<div>\n<style scoped>\n    .dataframe tbody tr th:only-of-type {\n        vertical-align: middle;\n    }\n\n    .dataframe tbody tr th {\n        vertical-align: top;\n    }\n\n    .dataframe thead th {\n        text-align: right;\n    }\n</style>\n<table border=\"1\" class=\"dataframe\">\n  <thead>\n    <tr style=\"text-align: right;\">\n      <th></th>\n      <th>High</th>\n      <th>Low</th>\n      <th>Open</th>\n      <th>Close</th>\n      <th>Volume</th>\n      <th>Adj Close</th>\n      <th>x</th>\n      <th>pct_change</th>\n      <th>growthX</th>\n    </tr>\n    <tr>\n      <th>Date</th>\n      <th></th>\n      <th></th>\n      <th></th>\n      <th></th>\n      <th></th>\n      <th></th>\n      <th></th>\n      <th></th>\n      <th></th>\n    </tr>\n  </thead>\n  <tbody>\n    <tr>\n      <td>2020-07-27</td>\n      <td>71.629997</td>\n      <td>67.790001</td>\n      <td>69.279999</td>\n      <td>68.970001</td>\n      <td>107918100</td>\n      <td>68.970001</td>\n      <td>-3.571374e-09</td>\n      <td>NaN</td>\n      <td>NaN</td>\n    </tr>\n    <tr>\n      <td>2020-07-28</td>\n      <td>69.800003</td>\n      <td>67.019997</td>\n      <td>68.099998</td>\n      <td>67.610001</td>\n      <td>94181400</td>\n      <td>67.610001</td>\n      <td>-6.110949e-09</td>\n      <td>-0.019719</td>\n      <td>0.980281</td>\n    </tr>\n    <tr>\n      <td>2020-07-29</td>\n      <td>77.190002</td>\n      <td>73.900002</td>\n      <td>75.500000</td>\n      <td>76.089996</td>\n      <td>132969700</td>\n      <td>76.089996</td>\n      <td>2.491571e-09</td>\n      <td>0.125425</td>\n      <td>1.125425</td>\n    </tr>\n    <tr>\n      <td>2020-07-30</td>\n      <td>78.959999</td>\n      <td>75.070000</td>\n      <td>75.370003</td>\n      <td>78.199997</td>\n      <td>80286900</td>\n      <td>78.199997</td>\n      <td>7.588453e-09</td>\n      <td>0.027730</td>\n      <td>1.027730</td>\n    </tr>\n    <tr>\n      <td>2020-07-31</td>\n      <td>78.959999</td>\n      <td>75.360001</td>\n      <td>78.669998</td>\n      <td>77.430000</td>\n      <td>71699700</td>\n      <td>77.430000</td>\n      <td>2.092063e-09</td>\n      <td>-0.009847</td>\n      <td>0.990153</td>\n    </tr>\n    <tr>\n      <td>...</td>\n      <td>...</td>\n      <td>...</td>\n      <td>...</td>\n      <td>...</td>\n      <td>...</td>\n      <td>...</td>\n      <td>...</td>\n      <td>...</td>\n      <td>...</td>\n    </tr>\n    <tr>\n      <td>2020-11-17</td>\n      <td>84.809998</td>\n      <td>82.910004</td>\n      <td>83.930000</td>\n      <td>83.360001</td>\n      <td>29473500</td>\n      <td>83.360001</td>\n      <td>-1.785731e-08</td>\n      <td>-0.004419</td>\n      <td>0.995581</td>\n    </tr>\n    <tr>\n      <td>2020-11-18</td>\n      <td>83.959999</td>\n      <td>82.220001</td>\n      <td>83.010002</td>\n      <td>82.540001</td>\n      <td>29968000</td>\n      <td>82.540001</td>\n      <td>-2.109530e-08</td>\n      <td>-0.009837</td>\n      <td>0.990163</td>\n    </tr>\n    <tr>\n      <td>2020-11-19</td>\n      <td>85.639999</td>\n      <td>81.720001</td>\n      <td>82.389999</td>\n      <td>85.540001</td>\n      <td>50116800</td>\n      <td>85.540001</td>\n      <td>1.893537e-08</td>\n      <td>0.036346</td>\n      <td>1.036346</td>\n    </tr>\n    <tr>\n      <td>2020-11-20</td>\n      <td>86.099998</td>\n      <td>84.470001</td>\n      <td>85.279999</td>\n      <td>84.639999</td>\n      <td>34974800</td>\n      <td>84.639999</td>\n      <td>-2.262809e-08</td>\n      <td>-0.010521</td>\n      <td>0.989479</td>\n    </tr>\n    <tr>\n      <td>2020-11-23</td>\n      <td>87.540001</td>\n      <td>84.614998</td>\n      <td>85.519997</td>\n      <td>85.309998</td>\n      <td>45896932</td>\n      <td>85.309998</td>\n      <td>-1.143403e-08</td>\n      <td>0.007916</td>\n      <td>1.007916</td>\n    </tr>\n  </tbody>\n</table>\n<p>85 rows × 9 columns</p>\n</div>"
     },
     "metadata": {},
     "execution_count": 139
    }
   ],
   "source": [
    "df"
   ]
  },
  {
   "cell_type": "code",
   "execution_count": 160,
   "metadata": {},
   "outputs": [],
   "source": [
    "df['range']=df['Close'].max()- df['Close'].min()\n",
    "df['x1']=(df['Close']-df['Close'].min())/df['range']"
   ]
  },
  {
   "cell_type": "code",
   "execution_count": 161,
   "metadata": {},
   "outputs": [
    {
     "output_type": "execute_result",
     "data": {
      "text/plain": [
       "                 High        Low       Open      Close     Volume  Adj Close  \\\n",
       "Date                                                                           \n",
       "2020-10-26  84.970001  80.860001  82.550003  82.230003   69423700  82.230003   \n",
       "2020-10-27  82.370003  77.570000  82.000000  78.879997  156669500  78.879997   \n",
       "2020-10-28  78.959999  75.760002  78.730003  76.400002   76529900  76.400002   \n",
       "2020-10-29  79.180000  76.290001  76.750000  78.019997   52784100  78.019997   \n",
       "2020-10-30  77.699997  74.230003  77.089996  75.290001   51349000  75.290001   \n",
       "2020-11-02  76.339996  73.760002  75.849998  74.699997   45760700  74.699997   \n",
       "2020-11-03  77.080002  74.599998  74.930000  76.580002   41231800  76.580002   \n",
       "2020-11-04  81.849998  78.970001  80.250000  81.349998   66579700  81.349998   \n",
       "2020-11-05  83.500000  81.849998  83.269997  83.000000   46542300  83.000000   \n",
       "2020-11-06  86.089996  82.669998  83.519997  85.879997   53829900  85.879997   \n",
       "2020-11-09  87.050003  82.769997  84.239998  83.120003   58580700  83.120003   \n",
       "2020-11-10  82.129997  77.629997  81.930000  77.989998   67137200  77.989998   \n",
       "2020-11-11  81.470001  78.970001  79.389999  81.279999   44611300  81.279999   \n",
       "2020-11-12  83.000000  80.300003  81.320000  81.839996   37242600  81.839996   \n",
       "2020-11-13  83.110001  80.699997  82.730003  81.430000   30423200  81.430000   \n",
       "2020-11-16  83.779999  80.480003  81.209999  83.730003   38640800  83.730003   \n",
       "2020-11-17  84.809998  82.910004  83.930000  83.360001   29473500  83.360001   \n",
       "2020-11-18  83.959999  82.220001  83.010002  82.540001   29968000  82.540001   \n",
       "2020-11-19  85.639999  81.720001  82.389999  85.540001   50116800  85.540001   \n",
       "2020-11-20  86.099998  84.470001  85.279999  84.639999   34974800  84.639999   \n",
       "2020-11-23  87.540001  84.614998  85.519997  85.309998   45896932  85.309998   \n",
       "\n",
       "            range        x1  \n",
       "Date                         \n",
       "2020-10-26  11.18  0.673525  \n",
       "2020-10-27  11.18  0.373882  \n",
       "2020-10-28  11.18  0.152058  \n",
       "2020-10-29  11.18  0.296959  \n",
       "2020-10-30  11.18  0.052773  \n",
       "2020-11-02  11.18  0.000000  \n",
       "2020-11-03  11.18  0.168158  \n",
       "2020-11-04  11.18  0.594812  \n",
       "2020-11-05  11.18  0.742397  \n",
       "2020-11-06  11.18  1.000000  \n",
       "2020-11-09  11.18  0.753131  \n",
       "2020-11-10  11.18  0.294276  \n",
       "2020-11-11  11.18  0.588551  \n",
       "2020-11-12  11.18  0.638640  \n",
       "2020-11-13  11.18  0.601968  \n",
       "2020-11-16  11.18  0.807693  \n",
       "2020-11-17  11.18  0.774598  \n",
       "2020-11-18  11.18  0.701253  \n",
       "2020-11-19  11.18  0.969589  \n",
       "2020-11-20  11.18  0.889088  \n",
       "2020-11-23  11.18  0.949016  "
      ],
      "text/html": "<div>\n<style scoped>\n    .dataframe tbody tr th:only-of-type {\n        vertical-align: middle;\n    }\n\n    .dataframe tbody tr th {\n        vertical-align: top;\n    }\n\n    .dataframe thead th {\n        text-align: right;\n    }\n</style>\n<table border=\"1\" class=\"dataframe\">\n  <thead>\n    <tr style=\"text-align: right;\">\n      <th></th>\n      <th>High</th>\n      <th>Low</th>\n      <th>Open</th>\n      <th>Close</th>\n      <th>Volume</th>\n      <th>Adj Close</th>\n      <th>range</th>\n      <th>x1</th>\n    </tr>\n    <tr>\n      <th>Date</th>\n      <th></th>\n      <th></th>\n      <th></th>\n      <th></th>\n      <th></th>\n      <th></th>\n      <th></th>\n      <th></th>\n    </tr>\n  </thead>\n  <tbody>\n    <tr>\n      <td>2020-10-26</td>\n      <td>84.970001</td>\n      <td>80.860001</td>\n      <td>82.550003</td>\n      <td>82.230003</td>\n      <td>69423700</td>\n      <td>82.230003</td>\n      <td>11.18</td>\n      <td>0.673525</td>\n    </tr>\n    <tr>\n      <td>2020-10-27</td>\n      <td>82.370003</td>\n      <td>77.570000</td>\n      <td>82.000000</td>\n      <td>78.879997</td>\n      <td>156669500</td>\n      <td>78.879997</td>\n      <td>11.18</td>\n      <td>0.373882</td>\n    </tr>\n    <tr>\n      <td>2020-10-28</td>\n      <td>78.959999</td>\n      <td>75.760002</td>\n      <td>78.730003</td>\n      <td>76.400002</td>\n      <td>76529900</td>\n      <td>76.400002</td>\n      <td>11.18</td>\n      <td>0.152058</td>\n    </tr>\n    <tr>\n      <td>2020-10-29</td>\n      <td>79.180000</td>\n      <td>76.290001</td>\n      <td>76.750000</td>\n      <td>78.019997</td>\n      <td>52784100</td>\n      <td>78.019997</td>\n      <td>11.18</td>\n      <td>0.296959</td>\n    </tr>\n    <tr>\n      <td>2020-10-30</td>\n      <td>77.699997</td>\n      <td>74.230003</td>\n      <td>77.089996</td>\n      <td>75.290001</td>\n      <td>51349000</td>\n      <td>75.290001</td>\n      <td>11.18</td>\n      <td>0.052773</td>\n    </tr>\n    <tr>\n      <td>2020-11-02</td>\n      <td>76.339996</td>\n      <td>73.760002</td>\n      <td>75.849998</td>\n      <td>74.699997</td>\n      <td>45760700</td>\n      <td>74.699997</td>\n      <td>11.18</td>\n      <td>0.000000</td>\n    </tr>\n    <tr>\n      <td>2020-11-03</td>\n      <td>77.080002</td>\n      <td>74.599998</td>\n      <td>74.930000</td>\n      <td>76.580002</td>\n      <td>41231800</td>\n      <td>76.580002</td>\n      <td>11.18</td>\n      <td>0.168158</td>\n    </tr>\n    <tr>\n      <td>2020-11-04</td>\n      <td>81.849998</td>\n      <td>78.970001</td>\n      <td>80.250000</td>\n      <td>81.349998</td>\n      <td>66579700</td>\n      <td>81.349998</td>\n      <td>11.18</td>\n      <td>0.594812</td>\n    </tr>\n    <tr>\n      <td>2020-11-05</td>\n      <td>83.500000</td>\n      <td>81.849998</td>\n      <td>83.269997</td>\n      <td>83.000000</td>\n      <td>46542300</td>\n      <td>83.000000</td>\n      <td>11.18</td>\n      <td>0.742397</td>\n    </tr>\n    <tr>\n      <td>2020-11-06</td>\n      <td>86.089996</td>\n      <td>82.669998</td>\n      <td>83.519997</td>\n      <td>85.879997</td>\n      <td>53829900</td>\n      <td>85.879997</td>\n      <td>11.18</td>\n      <td>1.000000</td>\n    </tr>\n    <tr>\n      <td>2020-11-09</td>\n      <td>87.050003</td>\n      <td>82.769997</td>\n      <td>84.239998</td>\n      <td>83.120003</td>\n      <td>58580700</td>\n      <td>83.120003</td>\n      <td>11.18</td>\n      <td>0.753131</td>\n    </tr>\n    <tr>\n      <td>2020-11-10</td>\n      <td>82.129997</td>\n      <td>77.629997</td>\n      <td>81.930000</td>\n      <td>77.989998</td>\n      <td>67137200</td>\n      <td>77.989998</td>\n      <td>11.18</td>\n      <td>0.294276</td>\n    </tr>\n    <tr>\n      <td>2020-11-11</td>\n      <td>81.470001</td>\n      <td>78.970001</td>\n      <td>79.389999</td>\n      <td>81.279999</td>\n      <td>44611300</td>\n      <td>81.279999</td>\n      <td>11.18</td>\n      <td>0.588551</td>\n    </tr>\n    <tr>\n      <td>2020-11-12</td>\n      <td>83.000000</td>\n      <td>80.300003</td>\n      <td>81.320000</td>\n      <td>81.839996</td>\n      <td>37242600</td>\n      <td>81.839996</td>\n      <td>11.18</td>\n      <td>0.638640</td>\n    </tr>\n    <tr>\n      <td>2020-11-13</td>\n      <td>83.110001</td>\n      <td>80.699997</td>\n      <td>82.730003</td>\n      <td>81.430000</td>\n      <td>30423200</td>\n      <td>81.430000</td>\n      <td>11.18</td>\n      <td>0.601968</td>\n    </tr>\n    <tr>\n      <td>2020-11-16</td>\n      <td>83.779999</td>\n      <td>80.480003</td>\n      <td>81.209999</td>\n      <td>83.730003</td>\n      <td>38640800</td>\n      <td>83.730003</td>\n      <td>11.18</td>\n      <td>0.807693</td>\n    </tr>\n    <tr>\n      <td>2020-11-17</td>\n      <td>84.809998</td>\n      <td>82.910004</td>\n      <td>83.930000</td>\n      <td>83.360001</td>\n      <td>29473500</td>\n      <td>83.360001</td>\n      <td>11.18</td>\n      <td>0.774598</td>\n    </tr>\n    <tr>\n      <td>2020-11-18</td>\n      <td>83.959999</td>\n      <td>82.220001</td>\n      <td>83.010002</td>\n      <td>82.540001</td>\n      <td>29968000</td>\n      <td>82.540001</td>\n      <td>11.18</td>\n      <td>0.701253</td>\n    </tr>\n    <tr>\n      <td>2020-11-19</td>\n      <td>85.639999</td>\n      <td>81.720001</td>\n      <td>82.389999</td>\n      <td>85.540001</td>\n      <td>50116800</td>\n      <td>85.540001</td>\n      <td>11.18</td>\n      <td>0.969589</td>\n    </tr>\n    <tr>\n      <td>2020-11-20</td>\n      <td>86.099998</td>\n      <td>84.470001</td>\n      <td>85.279999</td>\n      <td>84.639999</td>\n      <td>34974800</td>\n      <td>84.639999</td>\n      <td>11.18</td>\n      <td>0.889088</td>\n    </tr>\n    <tr>\n      <td>2020-11-23</td>\n      <td>87.540001</td>\n      <td>84.614998</td>\n      <td>85.519997</td>\n      <td>85.309998</td>\n      <td>45896932</td>\n      <td>85.309998</td>\n      <td>11.18</td>\n      <td>0.949016</td>\n    </tr>\n  </tbody>\n</table>\n</div>"
     },
     "metadata": {},
     "execution_count": 161
    }
   ],
   "source": [
    "df"
   ]
  },
  {
   "cell_type": "code",
   "execution_count": 157,
   "metadata": {},
   "outputs": [
    {
     "output_type": "display_data",
     "data": {
      "application/vnd.plotly.v1+json": {
       "config": {
        "plotlyServerURL": "https://plot.ly"
       },
       "data": [
        {
         "name": "X",
         "type": "scatter",
         "x": [
          "2020-10-26T00:00:00",
          "2020-10-27T00:00:00",
          "2020-10-28T00:00:00",
          "2020-10-29T00:00:00",
          "2020-10-30T00:00:00",
          "2020-11-02T00:00:00",
          "2020-11-03T00:00:00",
          "2020-11-04T00:00:00",
          "2020-11-05T00:00:00",
          "2020-11-06T00:00:00",
          "2020-11-09T00:00:00",
          "2020-11-10T00:00:00",
          "2020-11-11T00:00:00",
          "2020-11-12T00:00:00",
          "2020-11-13T00:00:00",
          "2020-11-16T00:00:00",
          "2020-11-17T00:00:00",
          "2020-11-18T00:00:00",
          "2020-11-19T00:00:00",
          "2020-11-20T00:00:00",
          "2020-11-23T00:00:00"
         ],
         "xaxis": "x",
         "y": [
          82.2300033569336,
          78.87999725341797,
          76.4000015258789,
          78.0199966430664,
          75.29000091552734,
          74.69999694824219,
          76.58000183105469,
          81.3499984741211,
          83,
          85.87999725341797,
          83.12000274658203,
          77.98999786376953,
          81.27999877929688,
          81.83999633789062,
          81.43000030517578,
          83.7300033569336,
          83.36000061035156,
          82.54000091552734,
          85.54000091552734,
          84.63999938964844,
          85.30999755859375
         ],
         "yaxis": "y"
        },
        {
         "name": "X1",
         "type": "scatter",
         "x": [
          "2020-10-26T00:00:00",
          "2020-10-27T00:00:00",
          "2020-10-28T00:00:00",
          "2020-10-29T00:00:00",
          "2020-10-30T00:00:00",
          "2020-11-02T00:00:00",
          "2020-11-03T00:00:00",
          "2020-11-04T00:00:00",
          "2020-11-05T00:00:00",
          "2020-11-06T00:00:00",
          "2020-11-09T00:00:00",
          "2020-11-10T00:00:00",
          "2020-11-11T00:00:00",
          "2020-11-12T00:00:00",
          "2020-11-13T00:00:00",
          "2020-11-16T00:00:00",
          "2020-11-17T00:00:00",
          "2020-11-18T00:00:00",
          "2020-11-19T00:00:00",
          "2020-11-20T00:00:00",
          "2020-11-23T00:00:00"
         ],
         "xaxis": "x",
         "y": [
          75.54842957256976,
          72.19842346905413,
          69.71842774151507,
          71.33842285870257,
          68.60842713116351,
          68.01842316387835,
          69.89842804669085,
          74.66842468975726,
          76.31842621563617,
          79.19842346905413,
          76.4384289622182,
          71.3084240794057,
          74.59842499493304,
          75.15842255352679,
          74.74842652081195,
          77.04842957256976,
          76.67842682598773,
          75.85842713116351,
          78.85842713116351,
          77.9584256052846,
          78.62842377422992
         ],
         "yaxis": "y"
        }
       ],
       "layout": {
        "template": {
         "data": {
          "bar": [
           {
            "error_x": {
             "color": "#2a3f5f"
            },
            "error_y": {
             "color": "#2a3f5f"
            },
            "marker": {
             "line": {
              "color": "#E5ECF6",
              "width": 0.5
             }
            },
            "type": "bar"
           }
          ],
          "barpolar": [
           {
            "marker": {
             "line": {
              "color": "#E5ECF6",
              "width": 0.5
             }
            },
            "type": "barpolar"
           }
          ],
          "carpet": [
           {
            "aaxis": {
             "endlinecolor": "#2a3f5f",
             "gridcolor": "white",
             "linecolor": "white",
             "minorgridcolor": "white",
             "startlinecolor": "#2a3f5f"
            },
            "baxis": {
             "endlinecolor": "#2a3f5f",
             "gridcolor": "white",
             "linecolor": "white",
             "minorgridcolor": "white",
             "startlinecolor": "#2a3f5f"
            },
            "type": "carpet"
           }
          ],
          "choropleth": [
           {
            "colorbar": {
             "outlinewidth": 0,
             "ticks": ""
            },
            "type": "choropleth"
           }
          ],
          "contour": [
           {
            "colorbar": {
             "outlinewidth": 0,
             "ticks": ""
            },
            "colorscale": [
             [
              0,
              "#0d0887"
             ],
             [
              0.1111111111111111,
              "#46039f"
             ],
             [
              0.2222222222222222,
              "#7201a8"
             ],
             [
              0.3333333333333333,
              "#9c179e"
             ],
             [
              0.4444444444444444,
              "#bd3786"
             ],
             [
              0.5555555555555556,
              "#d8576b"
             ],
             [
              0.6666666666666666,
              "#ed7953"
             ],
             [
              0.7777777777777778,
              "#fb9f3a"
             ],
             [
              0.8888888888888888,
              "#fdca26"
             ],
             [
              1,
              "#f0f921"
             ]
            ],
            "type": "contour"
           }
          ],
          "contourcarpet": [
           {
            "colorbar": {
             "outlinewidth": 0,
             "ticks": ""
            },
            "type": "contourcarpet"
           }
          ],
          "heatmap": [
           {
            "colorbar": {
             "outlinewidth": 0,
             "ticks": ""
            },
            "colorscale": [
             [
              0,
              "#0d0887"
             ],
             [
              0.1111111111111111,
              "#46039f"
             ],
             [
              0.2222222222222222,
              "#7201a8"
             ],
             [
              0.3333333333333333,
              "#9c179e"
             ],
             [
              0.4444444444444444,
              "#bd3786"
             ],
             [
              0.5555555555555556,
              "#d8576b"
             ],
             [
              0.6666666666666666,
              "#ed7953"
             ],
             [
              0.7777777777777778,
              "#fb9f3a"
             ],
             [
              0.8888888888888888,
              "#fdca26"
             ],
             [
              1,
              "#f0f921"
             ]
            ],
            "type": "heatmap"
           }
          ],
          "heatmapgl": [
           {
            "colorbar": {
             "outlinewidth": 0,
             "ticks": ""
            },
            "colorscale": [
             [
              0,
              "#0d0887"
             ],
             [
              0.1111111111111111,
              "#46039f"
             ],
             [
              0.2222222222222222,
              "#7201a8"
             ],
             [
              0.3333333333333333,
              "#9c179e"
             ],
             [
              0.4444444444444444,
              "#bd3786"
             ],
             [
              0.5555555555555556,
              "#d8576b"
             ],
             [
              0.6666666666666666,
              "#ed7953"
             ],
             [
              0.7777777777777778,
              "#fb9f3a"
             ],
             [
              0.8888888888888888,
              "#fdca26"
             ],
             [
              1,
              "#f0f921"
             ]
            ],
            "type": "heatmapgl"
           }
          ],
          "histogram": [
           {
            "marker": {
             "colorbar": {
              "outlinewidth": 0,
              "ticks": ""
             }
            },
            "type": "histogram"
           }
          ],
          "histogram2d": [
           {
            "colorbar": {
             "outlinewidth": 0,
             "ticks": ""
            },
            "colorscale": [
             [
              0,
              "#0d0887"
             ],
             [
              0.1111111111111111,
              "#46039f"
             ],
             [
              0.2222222222222222,
              "#7201a8"
             ],
             [
              0.3333333333333333,
              "#9c179e"
             ],
             [
              0.4444444444444444,
              "#bd3786"
             ],
             [
              0.5555555555555556,
              "#d8576b"
             ],
             [
              0.6666666666666666,
              "#ed7953"
             ],
             [
              0.7777777777777778,
              "#fb9f3a"
             ],
             [
              0.8888888888888888,
              "#fdca26"
             ],
             [
              1,
              "#f0f921"
             ]
            ],
            "type": "histogram2d"
           }
          ],
          "histogram2dcontour": [
           {
            "colorbar": {
             "outlinewidth": 0,
             "ticks": ""
            },
            "colorscale": [
             [
              0,
              "#0d0887"
             ],
             [
              0.1111111111111111,
              "#46039f"
             ],
             [
              0.2222222222222222,
              "#7201a8"
             ],
             [
              0.3333333333333333,
              "#9c179e"
             ],
             [
              0.4444444444444444,
              "#bd3786"
             ],
             [
              0.5555555555555556,
              "#d8576b"
             ],
             [
              0.6666666666666666,
              "#ed7953"
             ],
             [
              0.7777777777777778,
              "#fb9f3a"
             ],
             [
              0.8888888888888888,
              "#fdca26"
             ],
             [
              1,
              "#f0f921"
             ]
            ],
            "type": "histogram2dcontour"
           }
          ],
          "mesh3d": [
           {
            "colorbar": {
             "outlinewidth": 0,
             "ticks": ""
            },
            "type": "mesh3d"
           }
          ],
          "parcoords": [
           {
            "line": {
             "colorbar": {
              "outlinewidth": 0,
              "ticks": ""
             }
            },
            "type": "parcoords"
           }
          ],
          "pie": [
           {
            "automargin": true,
            "type": "pie"
           }
          ],
          "scatter": [
           {
            "marker": {
             "colorbar": {
              "outlinewidth": 0,
              "ticks": ""
             }
            },
            "type": "scatter"
           }
          ],
          "scatter3d": [
           {
            "line": {
             "colorbar": {
              "outlinewidth": 0,
              "ticks": ""
             }
            },
            "marker": {
             "colorbar": {
              "outlinewidth": 0,
              "ticks": ""
             }
            },
            "type": "scatter3d"
           }
          ],
          "scattercarpet": [
           {
            "marker": {
             "colorbar": {
              "outlinewidth": 0,
              "ticks": ""
             }
            },
            "type": "scattercarpet"
           }
          ],
          "scattergeo": [
           {
            "marker": {
             "colorbar": {
              "outlinewidth": 0,
              "ticks": ""
             }
            },
            "type": "scattergeo"
           }
          ],
          "scattergl": [
           {
            "marker": {
             "colorbar": {
              "outlinewidth": 0,
              "ticks": ""
             }
            },
            "type": "scattergl"
           }
          ],
          "scattermapbox": [
           {
            "marker": {
             "colorbar": {
              "outlinewidth": 0,
              "ticks": ""
             }
            },
            "type": "scattermapbox"
           }
          ],
          "scatterpolar": [
           {
            "marker": {
             "colorbar": {
              "outlinewidth": 0,
              "ticks": ""
             }
            },
            "type": "scatterpolar"
           }
          ],
          "scatterpolargl": [
           {
            "marker": {
             "colorbar": {
              "outlinewidth": 0,
              "ticks": ""
             }
            },
            "type": "scatterpolargl"
           }
          ],
          "scatterternary": [
           {
            "marker": {
             "colorbar": {
              "outlinewidth": 0,
              "ticks": ""
             }
            },
            "type": "scatterternary"
           }
          ],
          "surface": [
           {
            "colorbar": {
             "outlinewidth": 0,
             "ticks": ""
            },
            "colorscale": [
             [
              0,
              "#0d0887"
             ],
             [
              0.1111111111111111,
              "#46039f"
             ],
             [
              0.2222222222222222,
              "#7201a8"
             ],
             [
              0.3333333333333333,
              "#9c179e"
             ],
             [
              0.4444444444444444,
              "#bd3786"
             ],
             [
              0.5555555555555556,
              "#d8576b"
             ],
             [
              0.6666666666666666,
              "#ed7953"
             ],
             [
              0.7777777777777778,
              "#fb9f3a"
             ],
             [
              0.8888888888888888,
              "#fdca26"
             ],
             [
              1,
              "#f0f921"
             ]
            ],
            "type": "surface"
           }
          ],
          "table": [
           {
            "cells": {
             "fill": {
              "color": "#EBF0F8"
             },
             "line": {
              "color": "white"
             }
            },
            "header": {
             "fill": {
              "color": "#C8D4E3"
             },
             "line": {
              "color": "white"
             }
            },
            "type": "table"
           }
          ]
         },
         "layout": {
          "annotationdefaults": {
           "arrowcolor": "#2a3f5f",
           "arrowhead": 0,
           "arrowwidth": 1
          },
          "coloraxis": {
           "colorbar": {
            "outlinewidth": 0,
            "ticks": ""
           }
          },
          "colorscale": {
           "diverging": [
            [
             0,
             "#8e0152"
            ],
            [
             0.1,
             "#c51b7d"
            ],
            [
             0.2,
             "#de77ae"
            ],
            [
             0.3,
             "#f1b6da"
            ],
            [
             0.4,
             "#fde0ef"
            ],
            [
             0.5,
             "#f7f7f7"
            ],
            [
             0.6,
             "#e6f5d0"
            ],
            [
             0.7,
             "#b8e186"
            ],
            [
             0.8,
             "#7fbc41"
            ],
            [
             0.9,
             "#4d9221"
            ],
            [
             1,
             "#276419"
            ]
           ],
           "sequential": [
            [
             0,
             "#0d0887"
            ],
            [
             0.1111111111111111,
             "#46039f"
            ],
            [
             0.2222222222222222,
             "#7201a8"
            ],
            [
             0.3333333333333333,
             "#9c179e"
            ],
            [
             0.4444444444444444,
             "#bd3786"
            ],
            [
             0.5555555555555556,
             "#d8576b"
            ],
            [
             0.6666666666666666,
             "#ed7953"
            ],
            [
             0.7777777777777778,
             "#fb9f3a"
            ],
            [
             0.8888888888888888,
             "#fdca26"
            ],
            [
             1,
             "#f0f921"
            ]
           ],
           "sequentialminus": [
            [
             0,
             "#0d0887"
            ],
            [
             0.1111111111111111,
             "#46039f"
            ],
            [
             0.2222222222222222,
             "#7201a8"
            ],
            [
             0.3333333333333333,
             "#9c179e"
            ],
            [
             0.4444444444444444,
             "#bd3786"
            ],
            [
             0.5555555555555556,
             "#d8576b"
            ],
            [
             0.6666666666666666,
             "#ed7953"
            ],
            [
             0.7777777777777778,
             "#fb9f3a"
            ],
            [
             0.8888888888888888,
             "#fdca26"
            ],
            [
             1,
             "#f0f921"
            ]
           ]
          },
          "colorway": [
           "#636efa",
           "#EF553B",
           "#00cc96",
           "#ab63fa",
           "#FFA15A",
           "#19d3f3",
           "#FF6692",
           "#B6E880",
           "#FF97FF",
           "#FECB52"
          ],
          "font": {
           "color": "#2a3f5f"
          },
          "geo": {
           "bgcolor": "white",
           "lakecolor": "white",
           "landcolor": "#E5ECF6",
           "showlakes": true,
           "showland": true,
           "subunitcolor": "white"
          },
          "hoverlabel": {
           "align": "left"
          },
          "hovermode": "closest",
          "mapbox": {
           "style": "light"
          },
          "paper_bgcolor": "white",
          "plot_bgcolor": "#E5ECF6",
          "polar": {
           "angularaxis": {
            "gridcolor": "white",
            "linecolor": "white",
            "ticks": ""
           },
           "bgcolor": "#E5ECF6",
           "radialaxis": {
            "gridcolor": "white",
            "linecolor": "white",
            "ticks": ""
           }
          },
          "scene": {
           "xaxis": {
            "backgroundcolor": "#E5ECF6",
            "gridcolor": "white",
            "gridwidth": 2,
            "linecolor": "white",
            "showbackground": true,
            "ticks": "",
            "zerolinecolor": "white"
           },
           "yaxis": {
            "backgroundcolor": "#E5ECF6",
            "gridcolor": "white",
            "gridwidth": 2,
            "linecolor": "white",
            "showbackground": true,
            "ticks": "",
            "zerolinecolor": "white"
           },
           "zaxis": {
            "backgroundcolor": "#E5ECF6",
            "gridcolor": "white",
            "gridwidth": 2,
            "linecolor": "white",
            "showbackground": true,
            "ticks": "",
            "zerolinecolor": "white"
           }
          },
          "shapedefaults": {
           "line": {
            "color": "#2a3f5f"
           }
          },
          "ternary": {
           "aaxis": {
            "gridcolor": "white",
            "linecolor": "white",
            "ticks": ""
           },
           "baxis": {
            "gridcolor": "white",
            "linecolor": "white",
            "ticks": ""
           },
           "bgcolor": "#E5ECF6",
           "caxis": {
            "gridcolor": "white",
            "linecolor": "white",
            "ticks": ""
           }
          },
          "title": {
           "x": 0.05
          },
          "xaxis": {
           "automargin": true,
           "gridcolor": "white",
           "linecolor": "white",
           "ticks": "",
           "title": {
            "standoff": 15
           },
           "zerolinecolor": "white",
           "zerolinewidth": 2
          },
          "yaxis": {
           "automargin": true,
           "gridcolor": "white",
           "linecolor": "white",
           "ticks": "",
           "title": {
            "standoff": 15
           },
           "zerolinecolor": "white",
           "zerolinewidth": 2
          }
         }
        },
        "xaxis": {
         "anchor": "y",
         "domain": [
          0,
          0.94
         ]
        },
        "yaxis": {
         "anchor": "x",
         "domain": [
          0,
          1
         ]
        },
        "yaxis2": {
         "anchor": "x",
         "overlaying": "y",
         "side": "right"
        }
       }
      }
     },
     "metadata": {}
    }
   ],
   "source": [
    "f = make_subplots(specs=[[{\"secondary_y\": True}]])\n",
    "x = go.Scatter(x=df.index ,y=df['Close'],name=\"X\")\n",
    "x1= go.Scatter(x=df.index ,y=df['x1'],name=\"X1\")\n",
    "\n",
    "f.add_trace(x,secondary_y=False)\n",
    "f.add_trace(x1,secondary_y=False)"
   ]
  },
  {
   "cell_type": "code",
   "execution_count": null,
   "metadata": {},
   "outputs": [],
   "source": []
  }
 ]
}